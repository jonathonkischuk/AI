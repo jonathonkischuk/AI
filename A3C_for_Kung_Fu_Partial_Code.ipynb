{
  "cells": [
    {
      "cell_type": "markdown",
      "metadata": {
        "id": "view-in-github",
        "colab_type": "text"
      },
      "source": [
        "<a href=\"https://colab.research.google.com/github/jonathonkischuk/AI/blob/main/A3C_for_Kung_Fu_Partial_Code.ipynb\" target=\"_parent\"><img src=\"https://colab.research.google.com/assets/colab-badge.svg\" alt=\"Open In Colab\"/></a>"
      ]
    },
    {
      "cell_type": "markdown",
      "source": [
        "# A3C for Kung Fu"
      ],
      "metadata": {
        "id": "dIo6Zkp7U1Hq"
      }
    },
    {
      "cell_type": "markdown",
      "source": [
        "## Part 0 - Installing the required packages and importing the libraries"
      ],
      "metadata": {
        "id": "pz8ogVxGVB6b"
      }
    },
    {
      "cell_type": "markdown",
      "source": [
        "### Installing Gymnasium"
      ],
      "metadata": {
        "id": "CqN2IEX1VKzi"
      }
    },
    {
      "cell_type": "code",
      "execution_count": 1,
      "metadata": {
        "id": "dbnq3XpoKa_7",
        "colab": {
          "base_uri": "https://localhost:8080/"
        },
        "outputId": "dc8eda3f-63c3-4f7a-81ac-d4a231a85749"
      },
      "outputs": [
        {
          "output_type": "stream",
          "name": "stdout",
          "text": [
            "Collecting gymnasium\n",
            "  Downloading gymnasium-0.29.1-py3-none-any.whl (953 kB)\n",
            "\u001b[2K     \u001b[90m━━━━━━━━━━━━━━━━━━━━━━━━━━━━━━━━━━━━━━━━\u001b[0m \u001b[32m953.9/953.9 kB\u001b[0m \u001b[31m4.2 MB/s\u001b[0m eta \u001b[36m0:00:00\u001b[0m\n",
            "\u001b[?25hRequirement already satisfied: numpy>=1.21.0 in /usr/local/lib/python3.10/dist-packages (from gymnasium) (1.23.5)\n",
            "Requirement already satisfied: cloudpickle>=1.2.0 in /usr/local/lib/python3.10/dist-packages (from gymnasium) (2.2.1)\n",
            "Requirement already satisfied: typing-extensions>=4.3.0 in /usr/local/lib/python3.10/dist-packages (from gymnasium) (4.5.0)\n",
            "Collecting farama-notifications>=0.0.1 (from gymnasium)\n",
            "  Downloading Farama_Notifications-0.0.4-py3-none-any.whl (2.5 kB)\n",
            "Installing collected packages: farama-notifications, gymnasium\n",
            "Successfully installed farama-notifications-0.0.4 gymnasium-0.29.1\n",
            "Requirement already satisfied: gymnasium[accept-rom-license,atari] in /usr/local/lib/python3.10/dist-packages (0.29.1)\n",
            "Requirement already satisfied: numpy>=1.21.0 in /usr/local/lib/python3.10/dist-packages (from gymnasium[accept-rom-license,atari]) (1.23.5)\n",
            "Requirement already satisfied: cloudpickle>=1.2.0 in /usr/local/lib/python3.10/dist-packages (from gymnasium[accept-rom-license,atari]) (2.2.1)\n",
            "Requirement already satisfied: typing-extensions>=4.3.0 in /usr/local/lib/python3.10/dist-packages (from gymnasium[accept-rom-license,atari]) (4.5.0)\n",
            "Requirement already satisfied: farama-notifications>=0.0.1 in /usr/local/lib/python3.10/dist-packages (from gymnasium[accept-rom-license,atari]) (0.0.4)\n",
            "Collecting shimmy[atari]<1.0,>=0.1.0 (from gymnasium[accept-rom-license,atari])\n",
            "  Downloading Shimmy-0.2.1-py3-none-any.whl (25 kB)\n",
            "Collecting autorom[accept-rom-license]~=0.4.2 (from gymnasium[accept-rom-license,atari])\n",
            "  Downloading AutoROM-0.4.2-py3-none-any.whl (16 kB)\n",
            "Requirement already satisfied: click in /usr/local/lib/python3.10/dist-packages (from autorom[accept-rom-license]~=0.4.2->gymnasium[accept-rom-license,atari]) (8.1.7)\n",
            "Requirement already satisfied: requests in /usr/local/lib/python3.10/dist-packages (from autorom[accept-rom-license]~=0.4.2->gymnasium[accept-rom-license,atari]) (2.31.0)\n",
            "Requirement already satisfied: tqdm in /usr/local/lib/python3.10/dist-packages (from autorom[accept-rom-license]~=0.4.2->gymnasium[accept-rom-license,atari]) (4.66.1)\n",
            "Collecting AutoROM.accept-rom-license (from autorom[accept-rom-license]~=0.4.2->gymnasium[accept-rom-license,atari])\n",
            "  Downloading AutoROM.accept-rom-license-0.6.1.tar.gz (434 kB)\n",
            "\u001b[2K     \u001b[90m━━━━━━━━━━━━━━━━━━━━━━━━━━━━━━━━━━━━━━━━\u001b[0m \u001b[32m434.7/434.7 kB\u001b[0m \u001b[31m3.6 MB/s\u001b[0m eta \u001b[36m0:00:00\u001b[0m\n",
            "\u001b[?25h  Installing build dependencies ... \u001b[?25l\u001b[?25hdone\n",
            "  Getting requirements to build wheel ... \u001b[?25l\u001b[?25hdone\n",
            "  Preparing metadata (pyproject.toml) ... \u001b[?25l\u001b[?25hdone\n",
            "Collecting ale-py~=0.8.1 (from shimmy[atari]<1.0,>=0.1.0->gymnasium[accept-rom-license,atari])\n",
            "  Downloading ale_py-0.8.1-cp310-cp310-manylinux_2_17_x86_64.manylinux2014_x86_64.whl (1.7 MB)\n",
            "\u001b[2K     \u001b[90m━━━━━━━━━━━━━━━━━━━━━━━━━━━━━━━━━━━━━━━━\u001b[0m \u001b[32m1.7/1.7 MB\u001b[0m \u001b[31m18.9 MB/s\u001b[0m eta \u001b[36m0:00:00\u001b[0m\n",
            "\u001b[?25hRequirement already satisfied: importlib-resources in /usr/local/lib/python3.10/dist-packages (from ale-py~=0.8.1->shimmy[atari]<1.0,>=0.1.0->gymnasium[accept-rom-license,atari]) (6.1.1)\n",
            "Requirement already satisfied: charset-normalizer<4,>=2 in /usr/local/lib/python3.10/dist-packages (from requests->autorom[accept-rom-license]~=0.4.2->gymnasium[accept-rom-license,atari]) (3.3.2)\n",
            "Requirement already satisfied: idna<4,>=2.5 in /usr/local/lib/python3.10/dist-packages (from requests->autorom[accept-rom-license]~=0.4.2->gymnasium[accept-rom-license,atari]) (3.6)\n",
            "Requirement already satisfied: urllib3<3,>=1.21.1 in /usr/local/lib/python3.10/dist-packages (from requests->autorom[accept-rom-license]~=0.4.2->gymnasium[accept-rom-license,atari]) (2.0.7)\n",
            "Requirement already satisfied: certifi>=2017.4.17 in /usr/local/lib/python3.10/dist-packages (from requests->autorom[accept-rom-license]~=0.4.2->gymnasium[accept-rom-license,atari]) (2023.11.17)\n",
            "Building wheels for collected packages: AutoROM.accept-rom-license\n",
            "  Building wheel for AutoROM.accept-rom-license (pyproject.toml) ... \u001b[?25l\u001b[?25hdone\n",
            "  Created wheel for AutoROM.accept-rom-license: filename=AutoROM.accept_rom_license-0.6.1-py3-none-any.whl size=446660 sha256=cd4636370034752df910b7ac8ae9c2cffadbb703ff8be0bc6bff04e84fec0080\n",
            "  Stored in directory: /root/.cache/pip/wheels/6b/1b/ef/a43ff1a2f1736d5711faa1ba4c1f61be1131b8899e6a057811\n",
            "Successfully built AutoROM.accept-rom-license\n",
            "Installing collected packages: ale-py, shimmy, AutoROM.accept-rom-license, autorom\n",
            "Successfully installed AutoROM.accept-rom-license-0.6.1 ale-py-0.8.1 autorom-0.4.2 shimmy-0.2.1\n",
            "Reading package lists... Done\n",
            "Building dependency tree... Done\n",
            "Reading state information... Done\n",
            "The following additional packages will be installed:\n",
            "  swig4.0\n",
            "Suggested packages:\n",
            "  swig-doc swig-examples swig4.0-examples swig4.0-doc\n",
            "The following NEW packages will be installed:\n",
            "  swig swig4.0\n",
            "0 upgraded, 2 newly installed, 0 to remove and 24 not upgraded.\n",
            "Need to get 1,116 kB of archives.\n",
            "After this operation, 5,542 kB of additional disk space will be used.\n",
            "Get:1 http://archive.ubuntu.com/ubuntu jammy/universe amd64 swig4.0 amd64 4.0.2-1ubuntu1 [1,110 kB]\n",
            "Get:2 http://archive.ubuntu.com/ubuntu jammy/universe amd64 swig all 4.0.2-1ubuntu1 [5,632 B]\n",
            "Fetched 1,116 kB in 1s (927 kB/s)\n",
            "Selecting previously unselected package swig4.0.\n",
            "(Reading database ... 121654 files and directories currently installed.)\n",
            "Preparing to unpack .../swig4.0_4.0.2-1ubuntu1_amd64.deb ...\n",
            "Unpacking swig4.0 (4.0.2-1ubuntu1) ...\n",
            "Selecting previously unselected package swig.\n",
            "Preparing to unpack .../swig_4.0.2-1ubuntu1_all.deb ...\n",
            "Unpacking swig (4.0.2-1ubuntu1) ...\n",
            "Setting up swig4.0 (4.0.2-1ubuntu1) ...\n",
            "Setting up swig (4.0.2-1ubuntu1) ...\n",
            "Processing triggers for man-db (2.10.2-1) ...\n",
            "Requirement already satisfied: gymnasium[box2d] in /usr/local/lib/python3.10/dist-packages (0.29.1)\n",
            "Requirement already satisfied: numpy>=1.21.0 in /usr/local/lib/python3.10/dist-packages (from gymnasium[box2d]) (1.23.5)\n",
            "Requirement already satisfied: cloudpickle>=1.2.0 in /usr/local/lib/python3.10/dist-packages (from gymnasium[box2d]) (2.2.1)\n",
            "Requirement already satisfied: typing-extensions>=4.3.0 in /usr/local/lib/python3.10/dist-packages (from gymnasium[box2d]) (4.5.0)\n",
            "Requirement already satisfied: farama-notifications>=0.0.1 in /usr/local/lib/python3.10/dist-packages (from gymnasium[box2d]) (0.0.4)\n",
            "Collecting box2d-py==2.3.5 (from gymnasium[box2d])\n",
            "  Downloading box2d-py-2.3.5.tar.gz (374 kB)\n",
            "\u001b[2K     \u001b[90m━━━━━━━━━━━━━━━━━━━━━━━━━━━━━━━━━━━━━━━━\u001b[0m \u001b[32m374.4/374.4 kB\u001b[0m \u001b[31m2.8 MB/s\u001b[0m eta \u001b[36m0:00:00\u001b[0m\n",
            "\u001b[?25h  Preparing metadata (setup.py) ... \u001b[?25l\u001b[?25hdone\n",
            "Requirement already satisfied: pygame>=2.1.3 in /usr/local/lib/python3.10/dist-packages (from gymnasium[box2d]) (2.5.2)\n",
            "Collecting swig==4.* (from gymnasium[box2d])\n",
            "  Downloading swig-4.1.1.post1-py2.py3-none-manylinux_2_5_x86_64.manylinux1_x86_64.whl (1.8 MB)\n",
            "\u001b[2K     \u001b[90m━━━━━━━━━━━━━━━━━━━━━━━━━━━━━━━━━━━━━━━━\u001b[0m \u001b[32m1.8/1.8 MB\u001b[0m \u001b[31m19.1 MB/s\u001b[0m eta \u001b[36m0:00:00\u001b[0m\n",
            "\u001b[?25hBuilding wheels for collected packages: box2d-py\n",
            "  Building wheel for box2d-py (setup.py) ... \u001b[?25l\u001b[?25hdone\n",
            "  Created wheel for box2d-py: filename=box2d_py-2.3.5-cp310-cp310-linux_x86_64.whl size=2349111 sha256=a61352ea15f49a93e962d93a514d5bd64f081c8ff1430279e91338e2da37aef6\n",
            "  Stored in directory: /root/.cache/pip/wheels/db/8f/6a/eaaadf056fba10a98d986f6dce954e6201ba3126926fc5ad9e\n",
            "Successfully built box2d-py\n",
            "Installing collected packages: swig, box2d-py\n",
            "Successfully installed box2d-py-2.3.5 swig-4.1.1.post1\n"
          ]
        }
      ],
      "source": [
        "!pip install gymnasium\n",
        "!pip install \"gymnasium[atari, accept-rom-license]\"\n",
        "!apt-get install -y swig\n",
        "!pip install gymnasium[box2d]"
      ]
    },
    {
      "cell_type": "markdown",
      "source": [
        "### Importing the libraries"
      ],
      "metadata": {
        "id": "BrsNHNQqVZLK"
      }
    },
    {
      "cell_type": "code",
      "execution_count": 2,
      "metadata": {
        "id": "Ho_25-9_9qnu"
      },
      "outputs": [],
      "source": [
        "import cv2\n",
        "import math\n",
        "import random\n",
        "import numpy as np\n",
        "import torch\n",
        "import torch.nn as nn\n",
        "import torch.optim as optim\n",
        "import torch.nn.functional as F\n",
        "import torch.multiprocessing as mp\n",
        "import torch.distributions as distributions\n",
        "from torch.distributions import Categorical\n",
        "import gymnasium as gym\n",
        "from gymnasium import ObservationWrapper\n",
        "from gymnasium.spaces import Box"
      ]
    },
    {
      "cell_type": "markdown",
      "source": [
        "## Part 1 - Building the AI"
      ],
      "metadata": {
        "id": "VF6EFSGUVlk2"
      }
    },
    {
      "cell_type": "markdown",
      "source": [
        "### Creating the architecture of the Neural Network"
      ],
      "metadata": {
        "id": "qyNc8cxbZCYP"
      }
    },
    {
      "cell_type": "code",
      "source": [
        "class Network(nn.Module):\n",
        "\n",
        "  def __init__(self, action_size):\n",
        "    super(Network, self).__init__()\n",
        "    self.conv1 = torch.nn.Conv2d(in_channels=4, out_channels=32, kernel_size=(3,3), stride=2)\n",
        "    self.conv2 = torch.nn.Conv2d(in_channels=32, out_channels=32, kernel_size=(3,3), stride=2)\n",
        "    self.conv3 = torch.nn.Conv2d(in_channels=32, out_channels=32, kernel_size=(3,3), stride=2)\n",
        "    self.flatten = torch.nn.Flatten()\n",
        "    self.fc1 = torch.nn.Linear(512, 128)\n",
        "    self.fc2a = torch.nn.Linear(128, action_size)\n",
        "    self.fc2s = torch.nn.Linear(128, 1)\n",
        "\n",
        "\n",
        "  def forward(self, state):\n",
        "    x = self.conv1(state)\n",
        "    x = F.relu(x)\n",
        "    x = self.conv2(x)\n",
        "    x = F.relu(x)\n",
        "    x = self.conv3(x)\n",
        "    x = F.relu(x)\n",
        "    x = self.flatten(x)\n",
        "    x = self.fc1(x)\n",
        "    x = F.relu(x)\n",
        "    action_values = self.fc2a(x)\n",
        "    state_values = self.fc2s(x)\n",
        "    return action_values, state_values"
      ],
      "metadata": {
        "id": "emWZxLUed90m"
      },
      "execution_count": 11,
      "outputs": []
    },
    {
      "cell_type": "markdown",
      "source": [
        "## Part 2 - Training the AI"
      ],
      "metadata": {
        "id": "eF5bETqbZbCG"
      }
    },
    {
      "cell_type": "markdown",
      "source": [
        "### Setting up the environment"
      ],
      "metadata": {
        "id": "3C2ydyKLZgaK"
      }
    },
    {
      "cell_type": "code",
      "source": [
        "class PreprocessAtari(ObservationWrapper):\n",
        "\n",
        "  def __init__(self, env, height = 42, width = 42, crop = lambda img: img, dim_order = 'pytorch', color = False, n_frames = 4):\n",
        "    super(PreprocessAtari, self).__init__(env)\n",
        "    self.img_size = (height, width)\n",
        "    self.crop = crop\n",
        "    self.dim_order = dim_order\n",
        "    self.color = color\n",
        "    self.frame_stack = n_frames\n",
        "    n_channels = 3 * n_frames if color else n_frames\n",
        "    obs_shape = {'tensorflow': (height, width, n_channels), 'pytorch': (n_channels, height, width)}[dim_order]\n",
        "    self.observation_space = Box(0.0, 1.0, obs_shape)\n",
        "    self.frames = np.zeros(obs_shape, dtype = np.float32)\n",
        "\n",
        "  def reset(self):\n",
        "    self.frames = np.zeros_like(self.frames)\n",
        "    obs, info = self.env.reset()\n",
        "    self.update_buffer(obs)\n",
        "    return self.frames, info\n",
        "\n",
        "  def observation(self, img):\n",
        "    img = self.crop(img)\n",
        "    img = cv2.resize(img, self.img_size)\n",
        "    if not self.color:\n",
        "      if len(img.shape) == 3 and img.shape[2] == 3:\n",
        "        img = cv2.cvtColor(img, cv2.COLOR_BGR2GRAY)\n",
        "    img = img.astype('float32') / 255.\n",
        "    if self.color:\n",
        "      self.frames = np.roll(self.frames, shift = -3, axis = 0)\n",
        "    else:\n",
        "      self.frames = np.roll(self.frames, shift = -1, axis = 0)\n",
        "    if self.color:\n",
        "      self.frames[-3:] = img\n",
        "    else:\n",
        "      self.frames[-1] = img\n",
        "    return self.frames\n",
        "\n",
        "  def update_buffer(self, obs):\n",
        "    self.frames = self.observation(obs)\n",
        "\n",
        "def make_env():\n",
        "  env = gym.make(\"KungFuMasterDeterministic-v0\", render_mode = 'rgb_array')\n",
        "  env = PreprocessAtari(env, height = 42, width = 42, crop = lambda img: img, dim_order = 'pytorch', color = False, n_frames = 4)\n",
        "  return env\n",
        "\n",
        "env = make_env()\n",
        "\n",
        "state_shape = env.observation_space.shape\n",
        "number_actions = env.action_space.n\n",
        "print(\"Observation shape:\", state_shape)\n",
        "print(\"Number actions:\", number_actions)\n",
        "print(\"Action names:\", env.env.env.get_action_meanings())"
      ],
      "metadata": {
        "colab": {
          "base_uri": "https://localhost:8080/"
        },
        "id": "gF756uIhRVcK",
        "outputId": "92133a93-23de-4f95-a2e4-5cff924a05b4"
      },
      "execution_count": 12,
      "outputs": [
        {
          "output_type": "stream",
          "name": "stderr",
          "text": [
            "/usr/local/lib/python3.10/dist-packages/gymnasium/envs/registration.py:513: DeprecationWarning: \u001b[33mWARN: The environment KungFuMasterDeterministic-v0 is out of date. You should consider upgrading to version `v4`.\u001b[0m\n",
            "  logger.deprecation(\n"
          ]
        },
        {
          "output_type": "stream",
          "name": "stdout",
          "text": [
            "Observation shape: (4, 42, 42)\n",
            "Number actions: 14\n",
            "Action names: ['NOOP', 'UP', 'RIGHT', 'LEFT', 'DOWN', 'DOWNRIGHT', 'DOWNLEFT', 'RIGHTFIRE', 'LEFTFIRE', 'DOWNFIRE', 'UPRIGHTFIRE', 'UPLEFTFIRE', 'DOWNRIGHTFIRE', 'DOWNLEFTFIRE']\n"
          ]
        },
        {
          "output_type": "stream",
          "name": "stderr",
          "text": [
            "/usr/local/lib/python3.10/dist-packages/gymnasium/core.py:311: UserWarning: \u001b[33mWARN: env.get_action_meanings to get variables from other wrappers is deprecated and will be removed in v1.0, to get this variable you can do `env.unwrapped.get_action_meanings` for environment variables or `env.get_wrapper_attr('get_action_meanings')` that will search the reminding wrappers.\u001b[0m\n",
            "  logger.warn(\n"
          ]
        }
      ]
    },
    {
      "cell_type": "markdown",
      "source": [
        "### Initializing the hyperparameters"
      ],
      "metadata": {
        "id": "YgRlooBmC1hr"
      }
    },
    {
      "cell_type": "code",
      "source": [
        "learning_rate = 1e-4\n",
        "discount_factor = 0.99\n",
        "number_environments = 10"
      ],
      "metadata": {
        "id": "NR4aK_UreAJ7"
      },
      "execution_count": 13,
      "outputs": []
    },
    {
      "cell_type": "markdown",
      "source": [
        "### Implementing the A3C class"
      ],
      "metadata": {
        "id": "Gg_LmSs9IoTX"
      }
    },
    {
      "cell_type": "code",
      "source": [
        "class Agent():\n",
        "\n",
        "  def __init__(self, action_size):\n",
        "    self.device = torch.device(\"cuda:0\" if torch.cuda.is_available() else \"cpu\")\n",
        "    self.action_size = action_size\n",
        "    self.network = Network(action_size).to(self.device)\n",
        "    self.optimizer = torch.optim.Adam(self.network.parameters(), lr=learning_rate)\n",
        "\n",
        "\n",
        "  def act(self, state):\n",
        "    if state.ndim == 3:\n",
        "      state = [state]\n",
        "    state = torch.tensor(state, dtype=torch.float32, device=self.device)\n",
        "    action_values, _ = self.network.forward(state)\n",
        "    policy = F.softmax(action_values, dim=-1)\n",
        "    return np.array([np.random.choice(len(p), p=p) for p in policy.detach().cpu().numpy()])\n",
        "\n",
        "\n",
        "  def step(self, state, action, reward, next_state, done):\n",
        "    batch_size = state.shape[0]\n",
        "    state = torch.tensor(state, dtype=torch.float32, device=self.device)\n",
        "    next_state = torch.tensor(next_state, dtype=torch.float32, device=self.device)\n",
        "    reward = torch.tensor(reward, dtype=torch.float32, device=self.device)\n",
        "    done = torch.tensor(done, dtype=torch.bool, device=self.device).to(dtype=torch.float32)\n",
        "    action_values, state_value = self.network(state)\n",
        "    _, next_state_value = self.network(next_state)\n",
        "    target_state_value = reward + discount_factor * next_state_value * (1 - done)\n",
        "    advantage = target_state_value - state_value\n",
        "    probs = F.softmax(action_values, dim=-1)\n",
        "    logprobs = F.log_softmax(action_values, dim=-1)\n",
        "    entropy = -torch.sum(probs * logprobs, axis=-1)\n",
        "    batch_idx = np.arange(batch_size)\n",
        "    logp_actions = logprobs[batch_idx, action]\n",
        "    actor_loss = -(logp_actions * advantage.detach()).mean() - 0.001 * entropy.mean()\n",
        "    critic_loss = F.mse_loss(target_state_value.detach(), state_value)\n",
        "    total_loss = actor_loss + critic_loss\n",
        "    self.optimizer.zero_grad()\n",
        "    total_loss.backward()\n",
        "    self.optimizer.step()"
      ],
      "metadata": {
        "id": "aGu_8RebeBNc"
      },
      "execution_count": 14,
      "outputs": []
    },
    {
      "cell_type": "markdown",
      "source": [
        "### Initializing the A3C agent"
      ],
      "metadata": {
        "id": "7RnRukHDKFJ0"
      }
    },
    {
      "cell_type": "code",
      "source": [
        "agent = Agent(number_actions)"
      ],
      "metadata": {
        "id": "g27Ua-xYeCTh"
      },
      "execution_count": 15,
      "outputs": []
    },
    {
      "cell_type": "markdown",
      "source": [
        "### Evaluating our A3C agent on a single episode"
      ],
      "metadata": {
        "id": "oB5SpmoKP0aK"
      }
    },
    {
      "cell_type": "code",
      "source": [
        "def evaluate(agent, env, n_episodes=1):\n",
        "  episodes_rewards = []\n",
        "  for _ in range(n_episodes):\n",
        "    state, _ = env.reset()\n",
        "    total_reward = 0\n",
        "    while True:\n",
        "      action = agent.act(state)\n",
        "      state, reward, done, info, _ =env.step(action[0])\n",
        "      total_reward += reward\n",
        "      if done:\n",
        "        break\n",
        "    episodes_rewards.append(total_reward)\n",
        "  return episodes_rewards"
      ],
      "metadata": {
        "id": "yEq6NZfqeDsB"
      },
      "execution_count": 16,
      "outputs": []
    },
    {
      "cell_type": "markdown",
      "source": [
        "### Testing multiple agents on multiple environments at the same time"
      ],
      "metadata": {
        "id": "jVSqiyjiQeMd"
      }
    },
    {
      "cell_type": "code",
      "source": [
        "class EnvBatch:\n",
        "\n",
        "  def __init__(self, n_envs=10):\n",
        "    self.envs = [make_env() for _ in range(n_envs)]\n",
        "\n",
        "\n",
        "  def reset(self):\n",
        "    _states = []\n",
        "    for env in self.envs:\n",
        "      _states.append(env.reset()[0])\n",
        "    return np.array(_states)\n",
        "\n",
        "\n",
        "  def step(self, actions):\n",
        "    next_states, rewards, dones, infos, _ = map(np.array, zip(*[env.step(a) for env, a in zip(self.envs, actions)]))\n",
        "    for i in range(len(self.envs)):\n",
        "      if dones[i]:\n",
        "        next_states[i] = self.envs[i].reset()[0]\n",
        "    return next_states,rewards, dones, infos"
      ],
      "metadata": {
        "id": "p1KDwVVgeE9X"
      },
      "execution_count": 17,
      "outputs": []
    },
    {
      "cell_type": "markdown",
      "source": [
        "### Training the A3C agent"
      ],
      "metadata": {
        "id": "69WZWB4oRx1P"
      }
    },
    {
      "cell_type": "code",
      "source": [
        "import tqdm\n",
        "\n",
        "env_batch = EnvBatch(number_environments)\n",
        "batch_states = env_batch.reset()\n",
        "\n",
        "with tqdm.trange(0, 3001) as progress_bar:\n",
        "  for i in progress_bar:\n",
        "    batch_actions = agent.act(batch_states)\n",
        "    batch_next_states, batch_rewards, batch_dones, _ = env_batch.step(batch_actions)\n",
        "    batch_rewards *= 0.01\n",
        "    agent.step(batch_states, batch_actions, batch_rewards, batch_next_states, batch_dones)\n",
        "    batch_states = batch_next_states\n",
        "    if i % 1000 == 0:\n",
        "      print(\"Average agent reward: \", np.mean(evaluate(agent, env, n_episodes=10)))"
      ],
      "metadata": {
        "colab": {
          "base_uri": "https://localhost:8080/"
        },
        "id": "4xt-KJGaeGJa",
        "outputId": "b2d0fe1d-b939-46aa-968a-b7bc5b0db5a2"
      },
      "execution_count": 23,
      "outputs": [
        {
          "output_type": "stream",
          "name": "stderr",
          "text": [
            "\r  0%|          | 0/3001 [00:00<?, ?it/s]<ipython-input-14-33e4d256313e>:35: UserWarning: Using a target size (torch.Size([10, 1])) that is different to the input size (torch.Size([10, 10])). This will likely lead to incorrect results due to broadcasting. Please ensure they have the same size.\n",
            "  critic_loss = F.mse_loss(target_state_value.detach(), state_value)\n",
            "  0%|          | 9/3001 [00:24<1:39:44,  2.00s/it] "
          ]
        },
        {
          "output_type": "stream",
          "name": "stdout",
          "text": [
            "Average agent reward:  100.0\n"
          ]
        },
        {
          "output_type": "stream",
          "name": "stderr",
          "text": [
            " 34%|███▎      | 1008/3001 [01:09<31:03,  1.07it/s]"
          ]
        },
        {
          "output_type": "stream",
          "name": "stdout",
          "text": [
            "Average agent reward:  680.0\n"
          ]
        },
        {
          "output_type": "stream",
          "name": "stderr",
          "text": [
            " 67%|██████▋   | 2008/3001 [01:54<21:23,  1.29s/it]"
          ]
        },
        {
          "output_type": "stream",
          "name": "stdout",
          "text": [
            "Average agent reward:  470.0\n"
          ]
        },
        {
          "output_type": "stream",
          "name": "stderr",
          "text": [
            "100%|██████████| 3001/3001 [02:33<00:00, 19.56it/s]"
          ]
        },
        {
          "output_type": "stream",
          "name": "stdout",
          "text": [
            "Average agent reward:  200.0\n"
          ]
        },
        {
          "output_type": "stream",
          "name": "stderr",
          "text": [
            "\n"
          ]
        }
      ]
    },
    {
      "cell_type": "markdown",
      "source": [
        "## Part 3 - Visualizing the results"
      ],
      "metadata": {
        "id": "7kG_YR9YdmUM"
      }
    },
    {
      "cell_type": "code",
      "source": [
        "import glob\n",
        "import io\n",
        "import base64\n",
        "import imageio\n",
        "from IPython.display import HTML, display\n",
        "from gymnasium.wrappers.monitoring.video_recorder import VideoRecorder\n",
        "\n",
        "def show_video_of_model(agent, env):\n",
        "  state, _ = env.reset()\n",
        "  done = False\n",
        "  frames = []\n",
        "  while not done:\n",
        "    frame = env.render()\n",
        "    frames.append(frame)\n",
        "    action = agent.act(state)\n",
        "    state, reward, done, _, _ = env.step(action[0])\n",
        "  env.close()\n",
        "  imageio.mimsave('video.mp4', frames, fps=30)\n",
        "\n",
        "show_video_of_model(agent, env)\n",
        "\n",
        "def show_video():\n",
        "    mp4list = glob.glob('*.mp4')\n",
        "    if len(mp4list) > 0:\n",
        "        mp4 = mp4list[0]\n",
        "        video = io.open(mp4, 'r+b').read()\n",
        "        encoded = base64.b64encode(video)\n",
        "        display(HTML(data='''<video alt=\"test\" autoplay\n",
        "                loop controls style=\"height: 400px;\">\n",
        "                <source src=\"data:video/mp4;base64,{0}\" type=\"video/mp4\" />\n",
        "             </video>'''.format(encoded.decode('ascii'))))\n",
        "    else:\n",
        "        print(\"Could not find video\")\n",
        "\n",
        "show_video()"
      ],
      "metadata": {
        "id": "UGkTuO6DxZ6B",
        "colab": {
          "base_uri": "https://localhost:8080/",
          "height": 459
        },
        "outputId": "1449e5ac-6797-4afd-d09a-67549a46565e"
      },
      "execution_count": 24,
      "outputs": [
        {
          "output_type": "stream",
          "name": "stderr",
          "text": [
            "WARNING:imageio_ffmpeg:IMAGEIO FFMPEG_WRITER WARNING: input image is not divisible by macro_block_size=16, resizing from (160, 210) to (160, 224) to ensure video compatibility with most codecs and players. To prevent resizing, make your input image divisible by the macro_block_size or set the macro_block_size to 1 (risking incompatibility).\n"
          ]
        },
        {
          "output_type": "display_data",
          "data": {
            "text/plain": [
              "<IPython.core.display.HTML object>"
            ],
            "text/html": [
              "<video alt=\"test\" autoplay\n",
              "                loop controls style=\"height: 400px;\">\n",
              "                <source src=\"data:video/mp4;base64,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\" type=\"video/mp4\" />\n",
              "             </video>"
            ]
          },
          "metadata": {}
        }
      ]
    }
  ],
  "metadata": {
    "colab": {
      "provenance": [],
      "gpuType": "T4",
      "include_colab_link": true
    },
    "kernelspec": {
      "display_name": "Python 3",
      "name": "python3"
    },
    "language_info": {
      "name": "python"
    },
    "accelerator": "GPU"
  },
  "nbformat": 4,
  "nbformat_minor": 0
}