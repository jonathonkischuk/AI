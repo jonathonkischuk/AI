{
  "nbformat": 4,
  "nbformat_minor": 0,
  "metadata": {
    "colab": {
      "provenance": [],
      "authorship_tag": "ABX9TyPrd8mI2W35QYnfvT8eoiCe",
      "include_colab_link": true
    },
    "kernelspec": {
      "name": "python3",
      "display_name": "Python 3"
    },
    "language_info": {
      "name": "python"
    }
  },
  "cells": [
    {
      "cell_type": "markdown",
      "metadata": {
        "id": "view-in-github",
        "colab_type": "text"
      },
      "source": [
        "<a href=\"https://colab.research.google.com/github/jonathonkischuk/AI/blob/main/basic_model.ipynb\" target=\"_parent\"><img src=\"https://colab.research.google.com/assets/colab-badge.svg\" alt=\"Open In Colab\"/></a>"
      ]
    },
    {
      "cell_type": "code",
      "execution_count": 1,
      "metadata": {
        "id": "_2N4EyRUr0EM"
      },
      "outputs": [],
      "source": [
        "import numpy as np"
      ]
    },
    {
      "cell_type": "code",
      "source": [
        "from sklearn.datasets import load_iris"
      ],
      "metadata": {
        "id": "DAg14QuJOZ1L"
      },
      "execution_count": 2,
      "outputs": []
    },
    {
      "cell_type": "code",
      "source": [
        "iris = load_iris()"
      ],
      "metadata": {
        "id": "Xca5DyCbOgiZ"
      },
      "execution_count": 3,
      "outputs": []
    },
    {
      "cell_type": "code",
      "source": [
        "type(iris)"
      ],
      "metadata": {
        "colab": {
          "base_uri": "https://localhost:8080/",
          "height": 186
        },
        "id": "N0at_6h6Oj69",
        "outputId": "a562558e-b129-454e-9f22-698df467eab3"
      },
      "execution_count": 4,
      "outputs": [
        {
          "output_type": "execute_result",
          "data": {
            "text/plain": [
              "sklearn.utils._bunch.Bunch"
            ],
            "text/html": [
              "<div style=\"max-width:800px; border: 1px solid var(--colab-border-color);\"><style>\n",
              "      pre.function-repr-contents {\n",
              "        overflow-x: auto;\n",
              "        padding: 8px 12px;\n",
              "        max-height: 500px;\n",
              "      }\n",
              "\n",
              "      pre.function-repr-contents.function-repr-contents-collapsed {\n",
              "        cursor: pointer;\n",
              "        max-height: 100px;\n",
              "      }\n",
              "    </style>\n",
              "    <pre style=\"white-space: initial; background:\n",
              "         var(--colab-secondary-surface-color); padding: 8px 12px;\n",
              "         border-bottom: 1px solid var(--colab-border-color);\"><b>sklearn.utils._bunch.Bunch</b><br/>def __init__(**kwargs)</pre><pre class=\"function-repr-contents function-repr-contents-collapsed\" style=\"\"><a class=\"filepath\" style=\"display:none\" href=\"#\">/usr/local/lib/python3.10/dist-packages/sklearn/utils/_bunch.py</a>Container object exposing keys as attributes.\n",
              "\n",
              "Bunch objects are sometimes used as an output for functions and methods.\n",
              "They extend dictionaries by enabling values to be accessed by key,\n",
              "`bunch[&quot;value_key&quot;]`, or by an attribute, `bunch.value_key`.\n",
              "\n",
              "Examples\n",
              "--------\n",
              "&gt;&gt;&gt; from sklearn.utils import Bunch\n",
              "&gt;&gt;&gt; b = Bunch(a=1, b=2)\n",
              "&gt;&gt;&gt; b[&#x27;b&#x27;]\n",
              "2\n",
              "&gt;&gt;&gt; b.b\n",
              "2\n",
              "&gt;&gt;&gt; b.a = 3\n",
              "&gt;&gt;&gt; b[&#x27;a&#x27;]\n",
              "3\n",
              "&gt;&gt;&gt; b.c = 6\n",
              "&gt;&gt;&gt; b[&#x27;c&#x27;]\n",
              "6</pre>\n",
              "      <script>\n",
              "      if (google.colab.kernel.accessAllowed && google.colab.files && google.colab.files.view) {\n",
              "        for (const element of document.querySelectorAll('.filepath')) {\n",
              "          element.style.display = 'block'\n",
              "          element.onclick = (event) => {\n",
              "            event.preventDefault();\n",
              "            event.stopPropagation();\n",
              "            google.colab.files.view(element.textContent, 1);\n",
              "          };\n",
              "        }\n",
              "      }\n",
              "      for (const element of document.querySelectorAll('.function-repr-contents')) {\n",
              "        element.onclick = (event) => {\n",
              "          event.preventDefault();\n",
              "          event.stopPropagation();\n",
              "          element.classList.toggle('function-repr-contents-collapsed');\n",
              "        };\n",
              "      }\n",
              "      </script>\n",
              "      </div>"
            ]
          },
          "metadata": {},
          "execution_count": 4
        }
      ]
    },
    {
      "cell_type": "code",
      "source": [
        "print(iris.DESCR)"
      ],
      "metadata": {
        "colab": {
          "base_uri": "https://localhost:8080/"
        },
        "id": "a4-n8kDCOnII",
        "outputId": "480d5c51-f57b-4635-8de9-f997e3f77b62"
      },
      "execution_count": 5,
      "outputs": [
        {
          "output_type": "stream",
          "name": "stdout",
          "text": [
            ".. _iris_dataset:\n",
            "\n",
            "Iris plants dataset\n",
            "--------------------\n",
            "\n",
            "**Data Set Characteristics:**\n",
            "\n",
            "    :Number of Instances: 150 (50 in each of three classes)\n",
            "    :Number of Attributes: 4 numeric, predictive attributes and the class\n",
            "    :Attribute Information:\n",
            "        - sepal length in cm\n",
            "        - sepal width in cm\n",
            "        - petal length in cm\n",
            "        - petal width in cm\n",
            "        - class:\n",
            "                - Iris-Setosa\n",
            "                - Iris-Versicolour\n",
            "                - Iris-Virginica\n",
            "                \n",
            "    :Summary Statistics:\n",
            "\n",
            "    ============== ==== ==== ======= ===== ====================\n",
            "                    Min  Max   Mean    SD   Class Correlation\n",
            "    ============== ==== ==== ======= ===== ====================\n",
            "    sepal length:   4.3  7.9   5.84   0.83    0.7826\n",
            "    sepal width:    2.0  4.4   3.05   0.43   -0.4194\n",
            "    petal length:   1.0  6.9   3.76   1.76    0.9490  (high!)\n",
            "    petal width:    0.1  2.5   1.20   0.76    0.9565  (high!)\n",
            "    ============== ==== ==== ======= ===== ====================\n",
            "\n",
            "    :Missing Attribute Values: None\n",
            "    :Class Distribution: 33.3% for each of 3 classes.\n",
            "    :Creator: R.A. Fisher\n",
            "    :Donor: Michael Marshall (MARSHALL%PLU@io.arc.nasa.gov)\n",
            "    :Date: July, 1988\n",
            "\n",
            "The famous Iris database, first used by Sir R.A. Fisher. The dataset is taken\n",
            "from Fisher's paper. Note that it's the same as in R, but not as in the UCI\n",
            "Machine Learning Repository, which has two wrong data points.\n",
            "\n",
            "This is perhaps the best known database to be found in the\n",
            "pattern recognition literature.  Fisher's paper is a classic in the field and\n",
            "is referenced frequently to this day.  (See Duda & Hart, for example.)  The\n",
            "data set contains 3 classes of 50 instances each, where each class refers to a\n",
            "type of iris plant.  One class is linearly separable from the other 2; the\n",
            "latter are NOT linearly separable from each other.\n",
            "\n",
            ".. topic:: References\n",
            "\n",
            "   - Fisher, R.A. \"The use of multiple measurements in taxonomic problems\"\n",
            "     Annual Eugenics, 7, Part II, 179-188 (1936); also in \"Contributions to\n",
            "     Mathematical Statistics\" (John Wiley, NY, 1950).\n",
            "   - Duda, R.O., & Hart, P.E. (1973) Pattern Classification and Scene Analysis.\n",
            "     (Q327.D83) John Wiley & Sons.  ISBN 0-471-22361-1.  See page 218.\n",
            "   - Dasarathy, B.V. (1980) \"Nosing Around the Neighborhood: A New System\n",
            "     Structure and Classification Rule for Recognition in Partially Exposed\n",
            "     Environments\".  IEEE Transactions on Pattern Analysis and Machine\n",
            "     Intelligence, Vol. PAMI-2, No. 1, 67-71.\n",
            "   - Gates, G.W. (1972) \"The Reduced Nearest Neighbor Rule\".  IEEE Transactions\n",
            "     on Information Theory, May 1972, 431-433.\n",
            "   - See also: 1988 MLC Proceedings, 54-64.  Cheeseman et al\"s AUTOCLASS II\n",
            "     conceptual clustering system finds 3 classes in the data.\n",
            "   - Many, many more ...\n"
          ]
        }
      ]
    },
    {
      "cell_type": "code",
      "source": [
        "X = iris.data"
      ],
      "metadata": {
        "id": "ItzsQ5e7Otda"
      },
      "execution_count": 6,
      "outputs": []
    },
    {
      "cell_type": "code",
      "source": [
        "y = iris.target"
      ],
      "metadata": {
        "id": "hO4TSWnRO_Y3"
      },
      "execution_count": 7,
      "outputs": []
    },
    {
      "cell_type": "code",
      "source": [
        "# class 0 --> [1,0,0]\n",
        "# class 1 --> [0,1,0]\n",
        "# class 2 --> [0,0,1]"
      ],
      "metadata": {
        "id": "ySGP6rFgPF8H"
      },
      "execution_count": 8,
      "outputs": []
    },
    {
      "cell_type": "code",
      "source": [
        "from keras.utils import to_categorical"
      ],
      "metadata": {
        "id": "-DIFNVvfPWgK"
      },
      "execution_count": 9,
      "outputs": []
    },
    {
      "cell_type": "code",
      "source": [
        "y = to_categorical(y)"
      ],
      "metadata": {
        "id": "wkXnHnUQPbjh"
      },
      "execution_count": 10,
      "outputs": []
    },
    {
      "cell_type": "code",
      "source": [
        "y.shape"
      ],
      "metadata": {
        "colab": {
          "base_uri": "https://localhost:8080/"
        },
        "id": "NLOn_ZAEPeSD",
        "outputId": "c07a71a7-e6d8-42b3-c98a-e4473e1ecf40"
      },
      "execution_count": 11,
      "outputs": [
        {
          "output_type": "execute_result",
          "data": {
            "text/plain": [
              "(150, 3)"
            ]
          },
          "metadata": {},
          "execution_count": 11
        }
      ]
    },
    {
      "cell_type": "code",
      "source": [
        "from sklearn.model_selection import train_test_split"
      ],
      "metadata": {
        "id": "lvbD9_4RPi75"
      },
      "execution_count": 12,
      "outputs": []
    },
    {
      "cell_type": "code",
      "source": [
        "X_train, X_test, y_train, y_test = train_test_split(X, y, test_size=0.33, random_state=42)"
      ],
      "metadata": {
        "id": "TjyM5qfVPqQJ"
      },
      "execution_count": 13,
      "outputs": []
    },
    {
      "cell_type": "code",
      "source": [
        "from sklearn.preprocessing import MinMaxScaler"
      ],
      "metadata": {
        "id": "dAOiV8-dQCt5"
      },
      "execution_count": 14,
      "outputs": []
    },
    {
      "cell_type": "code",
      "source": [
        "scaler_obj = MinMaxScaler()"
      ],
      "metadata": {
        "id": "AlmOKAyH-N7B"
      },
      "execution_count": 15,
      "outputs": []
    },
    {
      "cell_type": "code",
      "source": [
        "scaler_obj.fit(X_train)"
      ],
      "metadata": {
        "colab": {
          "base_uri": "https://localhost:8080/",
          "height": 74
        },
        "id": "bHQ_XQDO-UHW",
        "outputId": "0372760b-5d57-4e85-953c-3ee53a35f431"
      },
      "execution_count": 16,
      "outputs": [
        {
          "output_type": "execute_result",
          "data": {
            "text/plain": [
              "MinMaxScaler()"
            ],
            "text/html": [
              "<style>#sk-container-id-1 {color: black;background-color: white;}#sk-container-id-1 pre{padding: 0;}#sk-container-id-1 div.sk-toggleable {background-color: white;}#sk-container-id-1 label.sk-toggleable__label {cursor: pointer;display: block;width: 100%;margin-bottom: 0;padding: 0.3em;box-sizing: border-box;text-align: center;}#sk-container-id-1 label.sk-toggleable__label-arrow:before {content: \"▸\";float: left;margin-right: 0.25em;color: #696969;}#sk-container-id-1 label.sk-toggleable__label-arrow:hover:before {color: black;}#sk-container-id-1 div.sk-estimator:hover label.sk-toggleable__label-arrow:before {color: black;}#sk-container-id-1 div.sk-toggleable__content {max-height: 0;max-width: 0;overflow: hidden;text-align: left;background-color: #f0f8ff;}#sk-container-id-1 div.sk-toggleable__content pre {margin: 0.2em;color: black;border-radius: 0.25em;background-color: #f0f8ff;}#sk-container-id-1 input.sk-toggleable__control:checked~div.sk-toggleable__content {max-height: 200px;max-width: 100%;overflow: auto;}#sk-container-id-1 input.sk-toggleable__control:checked~label.sk-toggleable__label-arrow:before {content: \"▾\";}#sk-container-id-1 div.sk-estimator input.sk-toggleable__control:checked~label.sk-toggleable__label {background-color: #d4ebff;}#sk-container-id-1 div.sk-label input.sk-toggleable__control:checked~label.sk-toggleable__label {background-color: #d4ebff;}#sk-container-id-1 input.sk-hidden--visually {border: 0;clip: rect(1px 1px 1px 1px);clip: rect(1px, 1px, 1px, 1px);height: 1px;margin: -1px;overflow: hidden;padding: 0;position: absolute;width: 1px;}#sk-container-id-1 div.sk-estimator {font-family: monospace;background-color: #f0f8ff;border: 1px dotted black;border-radius: 0.25em;box-sizing: border-box;margin-bottom: 0.5em;}#sk-container-id-1 div.sk-estimator:hover {background-color: #d4ebff;}#sk-container-id-1 div.sk-parallel-item::after {content: \"\";width: 100%;border-bottom: 1px solid gray;flex-grow: 1;}#sk-container-id-1 div.sk-label:hover label.sk-toggleable__label {background-color: #d4ebff;}#sk-container-id-1 div.sk-serial::before {content: \"\";position: absolute;border-left: 1px solid gray;box-sizing: border-box;top: 0;bottom: 0;left: 50%;z-index: 0;}#sk-container-id-1 div.sk-serial {display: flex;flex-direction: column;align-items: center;background-color: white;padding-right: 0.2em;padding-left: 0.2em;position: relative;}#sk-container-id-1 div.sk-item {position: relative;z-index: 1;}#sk-container-id-1 div.sk-parallel {display: flex;align-items: stretch;justify-content: center;background-color: white;position: relative;}#sk-container-id-1 div.sk-item::before, #sk-container-id-1 div.sk-parallel-item::before {content: \"\";position: absolute;border-left: 1px solid gray;box-sizing: border-box;top: 0;bottom: 0;left: 50%;z-index: -1;}#sk-container-id-1 div.sk-parallel-item {display: flex;flex-direction: column;z-index: 1;position: relative;background-color: white;}#sk-container-id-1 div.sk-parallel-item:first-child::after {align-self: flex-end;width: 50%;}#sk-container-id-1 div.sk-parallel-item:last-child::after {align-self: flex-start;width: 50%;}#sk-container-id-1 div.sk-parallel-item:only-child::after {width: 0;}#sk-container-id-1 div.sk-dashed-wrapped {border: 1px dashed gray;margin: 0 0.4em 0.5em 0.4em;box-sizing: border-box;padding-bottom: 0.4em;background-color: white;}#sk-container-id-1 div.sk-label label {font-family: monospace;font-weight: bold;display: inline-block;line-height: 1.2em;}#sk-container-id-1 div.sk-label-container {text-align: center;}#sk-container-id-1 div.sk-container {/* jupyter's `normalize.less` sets `[hidden] { display: none; }` but bootstrap.min.css set `[hidden] { display: none !important; }` so we also need the `!important` here to be able to override the default hidden behavior on the sphinx rendered scikit-learn.org. See: https://github.com/scikit-learn/scikit-learn/issues/21755 */display: inline-block !important;position: relative;}#sk-container-id-1 div.sk-text-repr-fallback {display: none;}</style><div id=\"sk-container-id-1\" class=\"sk-top-container\"><div class=\"sk-text-repr-fallback\"><pre>MinMaxScaler()</pre><b>In a Jupyter environment, please rerun this cell to show the HTML representation or trust the notebook. <br />On GitHub, the HTML representation is unable to render, please try loading this page with nbviewer.org.</b></div><div class=\"sk-container\" hidden><div class=\"sk-item\"><div class=\"sk-estimator sk-toggleable\"><input class=\"sk-toggleable__control sk-hidden--visually\" id=\"sk-estimator-id-1\" type=\"checkbox\" checked><label for=\"sk-estimator-id-1\" class=\"sk-toggleable__label sk-toggleable__label-arrow\">MinMaxScaler</label><div class=\"sk-toggleable__content\"><pre>MinMaxScaler()</pre></div></div></div></div></div>"
            ]
          },
          "metadata": {},
          "execution_count": 16
        }
      ]
    },
    {
      "cell_type": "code",
      "source": [
        "scaled_X_train = scaler_obj.transform(X_train)"
      ],
      "metadata": {
        "id": "MGhsRpu0-bCa"
      },
      "execution_count": 17,
      "outputs": []
    },
    {
      "cell_type": "code",
      "source": [
        "scaled_X_test = scaler_obj.transform(X_test)"
      ],
      "metadata": {
        "id": "7c9lvH4t-4Da"
      },
      "execution_count": 18,
      "outputs": []
    },
    {
      "cell_type": "code",
      "source": [
        "# scaled_X_train"
      ],
      "metadata": {
        "id": "AHVvu2Cv_J1Y"
      },
      "execution_count": 19,
      "outputs": []
    },
    {
      "cell_type": "code",
      "source": [
        "from keras.models import Sequential\n",
        "from keras.layers import Dense"
      ],
      "metadata": {
        "id": "w6NRA9VO_MbW"
      },
      "execution_count": 20,
      "outputs": []
    },
    {
      "cell_type": "code",
      "source": [
        "model = Sequential()\n",
        "model.add(Dense(8,input_dim=4,activation='relu'))\n",
        "model.add(Dense(8,input_dim=4,activation='relu'))\n",
        "model.add(Dense(3,activation='softmax'))\n",
        "model.compile(loss='categorical_crossentropy',optimizer='adam', metrics=['accuracy'])"
      ],
      "metadata": {
        "id": "faD_Go5x_ftp"
      },
      "execution_count": 21,
      "outputs": []
    },
    {
      "cell_type": "code",
      "source": [
        "model.summary()"
      ],
      "metadata": {
        "colab": {
          "base_uri": "https://localhost:8080/"
        },
        "id": "vi3UdN6mA2p8",
        "outputId": "ac23234f-8304-43bc-a090-a1d5264f968e"
      },
      "execution_count": 22,
      "outputs": [
        {
          "output_type": "stream",
          "name": "stdout",
          "text": [
            "Model: \"sequential\"\n",
            "_________________________________________________________________\n",
            " Layer (type)                Output Shape              Param #   \n",
            "=================================================================\n",
            " dense (Dense)               (None, 8)                 40        \n",
            "                                                                 \n",
            " dense_1 (Dense)             (None, 8)                 72        \n",
            "                                                                 \n",
            " dense_2 (Dense)             (None, 3)                 27        \n",
            "                                                                 \n",
            "=================================================================\n",
            "Total params: 139 (556.00 Byte)\n",
            "Trainable params: 139 (556.00 Byte)\n",
            "Non-trainable params: 0 (0.00 Byte)\n",
            "_________________________________________________________________\n"
          ]
        }
      ]
    },
    {
      "cell_type": "code",
      "source": [
        "model.fit(scaled_X_train,y_train,epochs=150,verbose=2)"
      ],
      "metadata": {
        "colab": {
          "base_uri": "https://localhost:8080/"
        },
        "id": "78KDomn6A5Rm",
        "outputId": "0d86b294-dd90-4d63-d630-44acf7562adf"
      },
      "execution_count": 23,
      "outputs": [
        {
          "output_type": "stream",
          "name": "stdout",
          "text": [
            "Epoch 1/150\n",
            "4/4 - 4s - loss: 1.2731 - accuracy: 0.3500 - 4s/epoch - 880ms/step\n",
            "Epoch 2/150\n",
            "4/4 - 0s - loss: 1.2528 - accuracy: 0.3500 - 67ms/epoch - 17ms/step\n",
            "Epoch 3/150\n",
            "4/4 - 0s - loss: 1.2332 - accuracy: 0.3500 - 51ms/epoch - 13ms/step\n",
            "Epoch 4/150\n",
            "4/4 - 0s - loss: 1.2178 - accuracy: 0.3500 - 39ms/epoch - 10ms/step\n",
            "Epoch 5/150\n",
            "4/4 - 0s - loss: 1.2025 - accuracy: 0.3500 - 33ms/epoch - 8ms/step\n",
            "Epoch 6/150\n",
            "4/4 - 0s - loss: 1.1894 - accuracy: 0.3700 - 27ms/epoch - 7ms/step\n",
            "Epoch 7/150\n",
            "4/4 - 0s - loss: 1.1770 - accuracy: 0.3700 - 24ms/epoch - 6ms/step\n",
            "Epoch 8/150\n",
            "4/4 - 0s - loss: 1.1665 - accuracy: 0.3800 - 46ms/epoch - 12ms/step\n",
            "Epoch 9/150\n",
            "4/4 - 0s - loss: 1.1563 - accuracy: 0.4200 - 40ms/epoch - 10ms/step\n",
            "Epoch 10/150\n",
            "4/4 - 0s - loss: 1.1458 - accuracy: 0.4900 - 39ms/epoch - 10ms/step\n",
            "Epoch 11/150\n",
            "4/4 - 0s - loss: 1.1348 - accuracy: 0.5600 - 33ms/epoch - 8ms/step\n",
            "Epoch 12/150\n",
            "4/4 - 0s - loss: 1.1251 - accuracy: 0.6300 - 29ms/epoch - 7ms/step\n",
            "Epoch 13/150\n",
            "4/4 - 0s - loss: 1.1166 - accuracy: 0.6500 - 26ms/epoch - 7ms/step\n",
            "Epoch 14/150\n",
            "4/4 - 0s - loss: 1.1068 - accuracy: 0.6600 - 29ms/epoch - 7ms/step\n",
            "Epoch 15/150\n",
            "4/4 - 0s - loss: 1.0996 - accuracy: 0.6600 - 27ms/epoch - 7ms/step\n",
            "Epoch 16/150\n",
            "4/4 - 0s - loss: 1.0923 - accuracy: 0.6600 - 28ms/epoch - 7ms/step\n",
            "Epoch 17/150\n",
            "4/4 - 0s - loss: 1.0855 - accuracy: 0.6600 - 32ms/epoch - 8ms/step\n",
            "Epoch 18/150\n",
            "4/4 - 0s - loss: 1.0787 - accuracy: 0.6600 - 30ms/epoch - 8ms/step\n",
            "Epoch 19/150\n",
            "4/4 - 0s - loss: 1.0730 - accuracy: 0.6600 - 37ms/epoch - 9ms/step\n",
            "Epoch 20/150\n",
            "4/4 - 0s - loss: 1.0672 - accuracy: 0.6600 - 36ms/epoch - 9ms/step\n",
            "Epoch 21/150\n",
            "4/4 - 0s - loss: 1.0613 - accuracy: 0.6600 - 29ms/epoch - 7ms/step\n",
            "Epoch 22/150\n",
            "4/4 - 0s - loss: 1.0550 - accuracy: 0.6600 - 28ms/epoch - 7ms/step\n",
            "Epoch 23/150\n",
            "4/4 - 0s - loss: 1.0500 - accuracy: 0.6600 - 29ms/epoch - 7ms/step\n",
            "Epoch 24/150\n",
            "4/4 - 0s - loss: 1.0455 - accuracy: 0.6600 - 31ms/epoch - 8ms/step\n",
            "Epoch 25/150\n",
            "4/4 - 0s - loss: 1.0408 - accuracy: 0.6600 - 25ms/epoch - 6ms/step\n",
            "Epoch 26/150\n",
            "4/4 - 0s - loss: 1.0365 - accuracy: 0.6500 - 28ms/epoch - 7ms/step\n",
            "Epoch 27/150\n",
            "4/4 - 0s - loss: 1.0325 - accuracy: 0.6500 - 19ms/epoch - 5ms/step\n",
            "Epoch 28/150\n",
            "4/4 - 0s - loss: 1.0279 - accuracy: 0.6500 - 18ms/epoch - 5ms/step\n",
            "Epoch 29/150\n",
            "4/4 - 0s - loss: 1.0238 - accuracy: 0.6400 - 26ms/epoch - 7ms/step\n",
            "Epoch 30/150\n",
            "4/4 - 0s - loss: 1.0195 - accuracy: 0.6300 - 29ms/epoch - 7ms/step\n",
            "Epoch 31/150\n",
            "4/4 - 0s - loss: 1.0152 - accuracy: 0.6300 - 29ms/epoch - 7ms/step\n",
            "Epoch 32/150\n",
            "4/4 - 0s - loss: 1.0107 - accuracy: 0.6300 - 25ms/epoch - 6ms/step\n",
            "Epoch 33/150\n",
            "4/4 - 0s - loss: 1.0056 - accuracy: 0.6200 - 41ms/epoch - 10ms/step\n",
            "Epoch 34/150\n",
            "4/4 - 0s - loss: 1.0011 - accuracy: 0.6200 - 39ms/epoch - 10ms/step\n",
            "Epoch 35/150\n",
            "4/4 - 0s - loss: 0.9964 - accuracy: 0.6000 - 44ms/epoch - 11ms/step\n",
            "Epoch 36/150\n",
            "4/4 - 0s - loss: 0.9916 - accuracy: 0.6000 - 40ms/epoch - 10ms/step\n",
            "Epoch 37/150\n",
            "4/4 - 0s - loss: 0.9865 - accuracy: 0.5400 - 35ms/epoch - 9ms/step\n",
            "Epoch 38/150\n",
            "4/4 - 0s - loss: 0.9814 - accuracy: 0.5200 - 37ms/epoch - 9ms/step\n",
            "Epoch 39/150\n",
            "4/4 - 0s - loss: 0.9767 - accuracy: 0.4500 - 62ms/epoch - 15ms/step\n",
            "Epoch 40/150\n",
            "4/4 - 0s - loss: 0.9715 - accuracy: 0.4100 - 51ms/epoch - 13ms/step\n",
            "Epoch 41/150\n",
            "4/4 - 0s - loss: 0.9666 - accuracy: 0.3900 - 46ms/epoch - 11ms/step\n",
            "Epoch 42/150\n",
            "4/4 - 0s - loss: 0.9616 - accuracy: 0.3900 - 24ms/epoch - 6ms/step\n",
            "Epoch 43/150\n",
            "4/4 - 0s - loss: 0.9564 - accuracy: 0.3900 - 41ms/epoch - 10ms/step\n",
            "Epoch 44/150\n",
            "4/4 - 0s - loss: 0.9516 - accuracy: 0.4300 - 38ms/epoch - 9ms/step\n",
            "Epoch 45/150\n",
            "4/4 - 0s - loss: 0.9460 - accuracy: 0.4700 - 35ms/epoch - 9ms/step\n",
            "Epoch 46/150\n",
            "4/4 - 0s - loss: 0.9406 - accuracy: 0.5200 - 34ms/epoch - 9ms/step\n",
            "Epoch 47/150\n",
            "4/4 - 0s - loss: 0.9354 - accuracy: 0.5800 - 24ms/epoch - 6ms/step\n",
            "Epoch 48/150\n",
            "4/4 - 0s - loss: 0.9303 - accuracy: 0.5900 - 17ms/epoch - 4ms/step\n",
            "Epoch 49/150\n",
            "4/4 - 0s - loss: 0.9249 - accuracy: 0.6200 - 21ms/epoch - 5ms/step\n",
            "Epoch 50/150\n",
            "4/4 - 0s - loss: 0.9194 - accuracy: 0.6300 - 16ms/epoch - 4ms/step\n",
            "Epoch 51/150\n",
            "4/4 - 0s - loss: 0.9141 - accuracy: 0.6400 - 30ms/epoch - 8ms/step\n",
            "Epoch 52/150\n",
            "4/4 - 0s - loss: 0.9085 - accuracy: 0.6400 - 23ms/epoch - 6ms/step\n",
            "Epoch 53/150\n",
            "4/4 - 0s - loss: 0.9032 - accuracy: 0.6400 - 15ms/epoch - 4ms/step\n",
            "Epoch 54/150\n",
            "4/4 - 0s - loss: 0.8975 - accuracy: 0.6400 - 23ms/epoch - 6ms/step\n",
            "Epoch 55/150\n",
            "4/4 - 0s - loss: 0.8921 - accuracy: 0.6400 - 36ms/epoch - 9ms/step\n",
            "Epoch 56/150\n",
            "4/4 - 0s - loss: 0.8866 - accuracy: 0.6400 - 36ms/epoch - 9ms/step\n",
            "Epoch 57/150\n",
            "4/4 - 0s - loss: 0.8811 - accuracy: 0.6400 - 39ms/epoch - 10ms/step\n",
            "Epoch 58/150\n",
            "4/4 - 0s - loss: 0.8757 - accuracy: 0.6400 - 36ms/epoch - 9ms/step\n",
            "Epoch 59/150\n",
            "4/4 - 0s - loss: 0.8701 - accuracy: 0.6300 - 30ms/epoch - 8ms/step\n",
            "Epoch 60/150\n",
            "4/4 - 0s - loss: 0.8645 - accuracy: 0.6300 - 32ms/epoch - 8ms/step\n",
            "Epoch 61/150\n",
            "4/4 - 0s - loss: 0.8590 - accuracy: 0.6300 - 32ms/epoch - 8ms/step\n",
            "Epoch 62/150\n",
            "4/4 - 0s - loss: 0.8533 - accuracy: 0.6300 - 38ms/epoch - 9ms/step\n",
            "Epoch 63/150\n",
            "4/4 - 0s - loss: 0.8478 - accuracy: 0.6300 - 18ms/epoch - 5ms/step\n",
            "Epoch 64/150\n",
            "4/4 - 0s - loss: 0.8421 - accuracy: 0.6300 - 24ms/epoch - 6ms/step\n",
            "Epoch 65/150\n",
            "4/4 - 0s - loss: 0.8363 - accuracy: 0.6300 - 23ms/epoch - 6ms/step\n",
            "Epoch 66/150\n",
            "4/4 - 0s - loss: 0.8306 - accuracy: 0.6300 - 23ms/epoch - 6ms/step\n",
            "Epoch 67/150\n",
            "4/4 - 0s - loss: 0.8251 - accuracy: 0.6300 - 26ms/epoch - 6ms/step\n",
            "Epoch 68/150\n",
            "4/4 - 0s - loss: 0.8190 - accuracy: 0.6300 - 34ms/epoch - 9ms/step\n",
            "Epoch 69/150\n",
            "4/4 - 0s - loss: 0.8135 - accuracy: 0.6400 - 22ms/epoch - 5ms/step\n",
            "Epoch 70/150\n",
            "4/4 - 0s - loss: 0.8077 - accuracy: 0.6400 - 15ms/epoch - 4ms/step\n",
            "Epoch 71/150\n",
            "4/4 - 0s - loss: 0.8018 - accuracy: 0.6500 - 15ms/epoch - 4ms/step\n",
            "Epoch 72/150\n",
            "4/4 - 0s - loss: 0.7970 - accuracy: 0.6500 - 22ms/epoch - 6ms/step\n",
            "Epoch 73/150\n",
            "4/4 - 0s - loss: 0.7914 - accuracy: 0.6500 - 15ms/epoch - 4ms/step\n",
            "Epoch 74/150\n",
            "4/4 - 0s - loss: 0.7862 - accuracy: 0.6500 - 14ms/epoch - 4ms/step\n",
            "Epoch 75/150\n",
            "4/4 - 0s - loss: 0.7810 - accuracy: 0.6400 - 14ms/epoch - 4ms/step\n",
            "Epoch 76/150\n",
            "4/4 - 0s - loss: 0.7752 - accuracy: 0.6400 - 22ms/epoch - 5ms/step\n",
            "Epoch 77/150\n",
            "4/4 - 0s - loss: 0.7697 - accuracy: 0.6400 - 30ms/epoch - 7ms/step\n",
            "Epoch 78/150\n",
            "4/4 - 0s - loss: 0.7640 - accuracy: 0.6400 - 45ms/epoch - 11ms/step\n",
            "Epoch 79/150\n",
            "4/4 - 0s - loss: 0.7586 - accuracy: 0.6500 - 33ms/epoch - 8ms/step\n",
            "Epoch 80/150\n",
            "4/4 - 0s - loss: 0.7535 - accuracy: 0.6500 - 31ms/epoch - 8ms/step\n",
            "Epoch 81/150\n",
            "4/4 - 0s - loss: 0.7480 - accuracy: 0.6500 - 19ms/epoch - 5ms/step\n",
            "Epoch 82/150\n",
            "4/4 - 0s - loss: 0.7425 - accuracy: 0.6500 - 14ms/epoch - 4ms/step\n",
            "Epoch 83/150\n",
            "4/4 - 0s - loss: 0.7369 - accuracy: 0.6500 - 16ms/epoch - 4ms/step\n",
            "Epoch 84/150\n",
            "4/4 - 0s - loss: 0.7322 - accuracy: 0.6500 - 16ms/epoch - 4ms/step\n",
            "Epoch 85/150\n",
            "4/4 - 0s - loss: 0.7270 - accuracy: 0.6500 - 16ms/epoch - 4ms/step\n",
            "Epoch 86/150\n",
            "4/4 - 0s - loss: 0.7224 - accuracy: 0.6500 - 20ms/epoch - 5ms/step\n",
            "Epoch 87/150\n",
            "4/4 - 0s - loss: 0.7178 - accuracy: 0.6500 - 29ms/epoch - 7ms/step\n",
            "Epoch 88/150\n",
            "4/4 - 0s - loss: 0.7124 - accuracy: 0.6500 - 15ms/epoch - 4ms/step\n",
            "Epoch 89/150\n",
            "4/4 - 0s - loss: 0.7076 - accuracy: 0.6500 - 27ms/epoch - 7ms/step\n",
            "Epoch 90/150\n",
            "4/4 - 0s - loss: 0.7026 - accuracy: 0.6500 - 83ms/epoch - 21ms/step\n",
            "Epoch 91/150\n",
            "4/4 - 0s - loss: 0.6977 - accuracy: 0.6500 - 53ms/epoch - 13ms/step\n",
            "Epoch 92/150\n",
            "4/4 - 0s - loss: 0.6929 - accuracy: 0.6500 - 36ms/epoch - 9ms/step\n",
            "Epoch 93/150\n",
            "4/4 - 0s - loss: 0.6884 - accuracy: 0.6500 - 42ms/epoch - 10ms/step\n",
            "Epoch 94/150\n",
            "4/4 - 0s - loss: 0.6835 - accuracy: 0.6500 - 26ms/epoch - 7ms/step\n",
            "Epoch 95/150\n",
            "4/4 - 0s - loss: 0.6791 - accuracy: 0.6500 - 23ms/epoch - 6ms/step\n",
            "Epoch 96/150\n",
            "4/4 - 0s - loss: 0.6746 - accuracy: 0.6500 - 32ms/epoch - 8ms/step\n",
            "Epoch 97/150\n",
            "4/4 - 0s - loss: 0.6701 - accuracy: 0.6500 - 27ms/epoch - 7ms/step\n",
            "Epoch 98/150\n",
            "4/4 - 0s - loss: 0.6655 - accuracy: 0.6500 - 58ms/epoch - 14ms/step\n",
            "Epoch 99/150\n",
            "4/4 - 0s - loss: 0.6611 - accuracy: 0.6500 - 31ms/epoch - 8ms/step\n",
            "Epoch 100/150\n",
            "4/4 - 0s - loss: 0.6579 - accuracy: 0.6500 - 43ms/epoch - 11ms/step\n",
            "Epoch 101/150\n",
            "4/4 - 0s - loss: 0.6545 - accuracy: 0.6500 - 42ms/epoch - 11ms/step\n",
            "Epoch 102/150\n",
            "4/4 - 0s - loss: 0.6509 - accuracy: 0.6500 - 30ms/epoch - 7ms/step\n",
            "Epoch 103/150\n",
            "4/4 - 0s - loss: 0.6473 - accuracy: 0.6500 - 26ms/epoch - 7ms/step\n",
            "Epoch 104/150\n",
            "4/4 - 0s - loss: 0.6439 - accuracy: 0.6500 - 46ms/epoch - 11ms/step\n",
            "Epoch 105/150\n",
            "4/4 - 0s - loss: 0.6403 - accuracy: 0.6600 - 24ms/epoch - 6ms/step\n",
            "Epoch 106/150\n",
            "4/4 - 0s - loss: 0.6359 - accuracy: 0.6600 - 20ms/epoch - 5ms/step\n",
            "Epoch 107/150\n",
            "4/4 - 0s - loss: 0.6320 - accuracy: 0.6500 - 21ms/epoch - 5ms/step\n",
            "Epoch 108/150\n",
            "4/4 - 0s - loss: 0.6279 - accuracy: 0.6500 - 20ms/epoch - 5ms/step\n",
            "Epoch 109/150\n",
            "4/4 - 0s - loss: 0.6241 - accuracy: 0.6600 - 18ms/epoch - 5ms/step\n",
            "Epoch 110/150\n",
            "4/4 - 0s - loss: 0.6205 - accuracy: 0.6500 - 19ms/epoch - 5ms/step\n",
            "Epoch 111/150\n",
            "4/4 - 0s - loss: 0.6163 - accuracy: 0.6500 - 23ms/epoch - 6ms/step\n",
            "Epoch 112/150\n",
            "4/4 - 0s - loss: 0.6126 - accuracy: 0.6500 - 55ms/epoch - 14ms/step\n",
            "Epoch 113/150\n",
            "4/4 - 0s - loss: 0.6089 - accuracy: 0.6600 - 39ms/epoch - 10ms/step\n",
            "Epoch 114/150\n",
            "4/4 - 0s - loss: 0.6054 - accuracy: 0.6600 - 33ms/epoch - 8ms/step\n",
            "Epoch 115/150\n",
            "4/4 - 0s - loss: 0.6018 - accuracy: 0.6600 - 45ms/epoch - 11ms/step\n",
            "Epoch 116/150\n",
            "4/4 - 0s - loss: 0.5987 - accuracy: 0.6600 - 36ms/epoch - 9ms/step\n",
            "Epoch 117/150\n",
            "4/4 - 0s - loss: 0.5958 - accuracy: 0.6600 - 28ms/epoch - 7ms/step\n",
            "Epoch 118/150\n",
            "4/4 - 0s - loss: 0.5924 - accuracy: 0.6600 - 27ms/epoch - 7ms/step\n",
            "Epoch 119/150\n",
            "4/4 - 0s - loss: 0.5892 - accuracy: 0.6600 - 36ms/epoch - 9ms/step\n",
            "Epoch 120/150\n",
            "4/4 - 0s - loss: 0.5860 - accuracy: 0.6600 - 33ms/epoch - 8ms/step\n",
            "Epoch 121/150\n",
            "4/4 - 0s - loss: 0.5830 - accuracy: 0.6600 - 30ms/epoch - 8ms/step\n",
            "Epoch 122/150\n",
            "4/4 - 0s - loss: 0.5801 - accuracy: 0.6600 - 40ms/epoch - 10ms/step\n",
            "Epoch 123/150\n",
            "4/4 - 0s - loss: 0.5772 - accuracy: 0.6600 - 31ms/epoch - 8ms/step\n",
            "Epoch 124/150\n",
            "4/4 - 0s - loss: 0.5744 - accuracy: 0.6500 - 32ms/epoch - 8ms/step\n",
            "Epoch 125/150\n",
            "4/4 - 0s - loss: 0.5717 - accuracy: 0.6500 - 27ms/epoch - 7ms/step\n",
            "Epoch 126/150\n",
            "4/4 - 0s - loss: 0.5693 - accuracy: 0.6500 - 29ms/epoch - 7ms/step\n",
            "Epoch 127/150\n",
            "4/4 - 0s - loss: 0.5673 - accuracy: 0.6500 - 23ms/epoch - 6ms/step\n",
            "Epoch 128/150\n",
            "4/4 - 0s - loss: 0.5649 - accuracy: 0.6500 - 41ms/epoch - 10ms/step\n",
            "Epoch 129/150\n",
            "4/4 - 0s - loss: 0.5624 - accuracy: 0.6500 - 30ms/epoch - 8ms/step\n",
            "Epoch 130/150\n",
            "4/4 - 0s - loss: 0.5597 - accuracy: 0.6500 - 38ms/epoch - 9ms/step\n",
            "Epoch 131/150\n",
            "4/4 - 0s - loss: 0.5573 - accuracy: 0.6500 - 56ms/epoch - 14ms/step\n",
            "Epoch 132/150\n",
            "4/4 - 0s - loss: 0.5544 - accuracy: 0.6500 - 47ms/epoch - 12ms/step\n",
            "Epoch 133/150\n",
            "4/4 - 0s - loss: 0.5520 - accuracy: 0.6500 - 24ms/epoch - 6ms/step\n",
            "Epoch 134/150\n",
            "4/4 - 0s - loss: 0.5502 - accuracy: 0.6500 - 42ms/epoch - 10ms/step\n",
            "Epoch 135/150\n",
            "4/4 - 0s - loss: 0.5481 - accuracy: 0.6500 - 31ms/epoch - 8ms/step\n",
            "Epoch 136/150\n",
            "4/4 - 0s - loss: 0.5458 - accuracy: 0.6600 - 23ms/epoch - 6ms/step\n",
            "Epoch 137/150\n",
            "4/4 - 0s - loss: 0.5435 - accuracy: 0.6600 - 37ms/epoch - 9ms/step\n",
            "Epoch 138/150\n",
            "4/4 - 0s - loss: 0.5410 - accuracy: 0.6700 - 45ms/epoch - 11ms/step\n",
            "Epoch 139/150\n",
            "4/4 - 0s - loss: 0.5384 - accuracy: 0.6700 - 24ms/epoch - 6ms/step\n",
            "Epoch 140/150\n",
            "4/4 - 0s - loss: 0.5363 - accuracy: 0.6700 - 19ms/epoch - 5ms/step\n",
            "Epoch 141/150\n",
            "4/4 - 0s - loss: 0.5339 - accuracy: 0.6800 - 15ms/epoch - 4ms/step\n",
            "Epoch 142/150\n",
            "4/4 - 0s - loss: 0.5319 - accuracy: 0.6900 - 31ms/epoch - 8ms/step\n",
            "Epoch 143/150\n",
            "4/4 - 0s - loss: 0.5297 - accuracy: 0.6900 - 43ms/epoch - 11ms/step\n",
            "Epoch 144/150\n",
            "4/4 - 0s - loss: 0.5274 - accuracy: 0.7000 - 33ms/epoch - 8ms/step\n",
            "Epoch 145/150\n",
            "4/4 - 0s - loss: 0.5256 - accuracy: 0.6900 - 14ms/epoch - 4ms/step\n",
            "Epoch 146/150\n",
            "4/4 - 0s - loss: 0.5235 - accuracy: 0.6900 - 23ms/epoch - 6ms/step\n",
            "Epoch 147/150\n",
            "4/4 - 0s - loss: 0.5217 - accuracy: 0.6900 - 69ms/epoch - 17ms/step\n",
            "Epoch 148/150\n",
            "4/4 - 0s - loss: 0.5198 - accuracy: 0.6900 - 45ms/epoch - 11ms/step\n",
            "Epoch 149/150\n",
            "4/4 - 0s - loss: 0.5181 - accuracy: 0.6900 - 37ms/epoch - 9ms/step\n",
            "Epoch 150/150\n",
            "4/4 - 0s - loss: 0.5161 - accuracy: 0.6900 - 33ms/epoch - 8ms/step\n"
          ]
        },
        {
          "output_type": "execute_result",
          "data": {
            "text/plain": [
              "<keras.src.callbacks.History at 0x7d4b902ebcd0>"
            ]
          },
          "metadata": {},
          "execution_count": 23
        }
      ]
    },
    {
      "cell_type": "code",
      "source": [
        "model.predict(scaled_X_test)"
      ],
      "metadata": {
        "colab": {
          "base_uri": "https://localhost:8080/"
        },
        "id": "t8Q3mlVSBfFd",
        "outputId": "565c73a3-e04e-4f2e-e21b-5afe2e1c98dc"
      },
      "execution_count": 24,
      "outputs": [
        {
          "output_type": "stream",
          "name": "stdout",
          "text": [
            "2/2 [==============================] - 0s 6ms/step\n"
          ]
        },
        {
          "output_type": "execute_result",
          "data": {
            "text/plain": [
              "array([[0.0577789 , 0.41671193, 0.5255091 ],\n",
              "       [0.9206637 , 0.05334355, 0.02599264],\n",
              "       [0.00681482, 0.3631103 , 0.63007486],\n",
              "       [0.06790175, 0.4106669 , 0.5214313 ],\n",
              "       [0.02991578, 0.37697756, 0.59310657],\n",
              "       [0.87848324, 0.07921893, 0.04229783],\n",
              "       [0.18935066, 0.40209934, 0.40855008],\n",
              "       [0.01726375, 0.33603066, 0.6467056 ],\n",
              "       [0.03574274, 0.41923547, 0.5450217 ],\n",
              "       [0.10449272, 0.41681993, 0.4786874 ],\n",
              "       [0.03529681, 0.37856016, 0.586143  ],\n",
              "       [0.8749635 , 0.08401007, 0.04102644],\n",
              "       [0.9170593 , 0.05560522, 0.02733545],\n",
              "       [0.8821973 , 0.07947545, 0.03832722],\n",
              "       [0.9445949 , 0.03866288, 0.01674224],\n",
              "       [0.09128451, 0.40807933, 0.50063616],\n",
              "       [0.01736275, 0.36414832, 0.618489  ],\n",
              "       [0.09096355, 0.42398044, 0.48505607],\n",
              "       [0.08248381, 0.4265141 , 0.49100214],\n",
              "       [0.01849035, 0.36739075, 0.6141188 ],\n",
              "       [0.8941773 , 0.07231873, 0.03350396],\n",
              "       [0.04472568, 0.39758533, 0.5576891 ],\n",
              "       [0.90013504, 0.06733327, 0.03253173],\n",
              "       [0.0194994 , 0.37179223, 0.6087083 ],\n",
              "       [0.01439622, 0.33546057, 0.6501432 ],\n",
              "       [0.0179811 , 0.34548736, 0.6365316 ],\n",
              "       [0.01741398, 0.3991856 , 0.5834004 ],\n",
              "       [0.01452777, 0.3475299 , 0.63794225],\n",
              "       [0.85954076, 0.09280176, 0.04765749],\n",
              "       [0.8736178 , 0.08502776, 0.04135442],\n",
              "       [0.9418542 , 0.04164706, 0.01649879],\n",
              "       [0.9695698 , 0.02153291, 0.00889735],\n",
              "       [0.06806035, 0.39383435, 0.5381053 ],\n",
              "       [0.9146201 , 0.05894491, 0.02643506],\n",
              "       [0.90529835, 0.06545985, 0.02924193],\n",
              "       [0.02535274, 0.38667178, 0.58797544],\n",
              "       [0.08789332, 0.40421003, 0.50789666],\n",
              "       [0.9206196 , 0.05426337, 0.025117  ],\n",
              "       [0.93437856, 0.04546503, 0.02015644],\n",
              "       [0.9625447 , 0.02676968, 0.01068554],\n",
              "       [0.03218468, 0.3983503 , 0.569465  ],\n",
              "       [0.15293147, 0.40822065, 0.43884784],\n",
              "       [0.05064321, 0.39005157, 0.55930525],\n",
              "       [0.95017403, 0.03438176, 0.01544422],\n",
              "       [0.93505734, 0.04467439, 0.02026827],\n",
              "       [0.1010809 , 0.42583275, 0.4730862 ],\n",
              "       [0.03242813, 0.39539304, 0.5721787 ],\n",
              "       [0.02771996, 0.38580382, 0.58647627],\n",
              "       [0.06083046, 0.39405933, 0.54511017],\n",
              "       [0.01375554, 0.33247492, 0.65376955]], dtype=float32)"
            ]
          },
          "metadata": {},
          "execution_count": 24
        }
      ]
    },
    {
      "cell_type": "code",
      "source": [
        "# predictions = model.predict_classes(scaled_X_test)\n",
        "\n",
        "predictions = np.argmax(model.predict(scaled_X_test),axis=1)"
      ],
      "metadata": {
        "colab": {
          "base_uri": "https://localhost:8080/"
        },
        "id": "sGxIHhvvB_Jf",
        "outputId": "b452b0af-d79f-41aa-f56c-ec2d2310fbd4"
      },
      "execution_count": 25,
      "outputs": [
        {
          "output_type": "stream",
          "name": "stdout",
          "text": [
            "2/2 [==============================] - 0s 10ms/step\n"
          ]
        }
      ]
    },
    {
      "cell_type": "code",
      "source": [
        "y_test.argmax(axis=1)"
      ],
      "metadata": {
        "colab": {
          "base_uri": "https://localhost:8080/"
        },
        "id": "DSytUQfWCtGT",
        "outputId": "2a894e69-15e0-4af4-cadb-e591570dcd91"
      },
      "execution_count": 26,
      "outputs": [
        {
          "output_type": "execute_result",
          "data": {
            "text/plain": [
              "array([1, 0, 2, 1, 1, 0, 1, 2, 1, 1, 2, 0, 0, 0, 0, 1, 2, 1, 1, 2, 0, 2,\n",
              "       0, 2, 2, 2, 2, 2, 0, 0, 0, 0, 1, 0, 0, 2, 1, 0, 0, 0, 2, 1, 1, 0,\n",
              "       0, 1, 2, 2, 1, 2])"
            ]
          },
          "metadata": {},
          "execution_count": 26
        }
      ]
    },
    {
      "cell_type": "code",
      "source": [
        "from sklearn.metrics import confusion_matrix, classification_report, accuracy_score"
      ],
      "metadata": {
        "id": "_97bSVM6DgMi"
      },
      "execution_count": 27,
      "outputs": []
    },
    {
      "cell_type": "code",
      "source": [
        "confusion_matrix(y_test.argmax(axis=1),predictions)"
      ],
      "metadata": {
        "colab": {
          "base_uri": "https://localhost:8080/"
        },
        "id": "J9ILpD57EgKz",
        "outputId": "b148c956-c51f-4823-cc8d-6e76f49fdce8"
      },
      "execution_count": 28,
      "outputs": [
        {
          "output_type": "execute_result",
          "data": {
            "text/plain": [
              "array([[19,  0,  0],\n",
              "       [ 0,  0, 15],\n",
              "       [ 0,  0, 16]])"
            ]
          },
          "metadata": {},
          "execution_count": 28
        }
      ]
    },
    {
      "cell_type": "code",
      "source": [
        "print(classification_report(y_test.argmax(axis=1),predictions))"
      ],
      "metadata": {
        "colab": {
          "base_uri": "https://localhost:8080/"
        },
        "id": "MgHS89CWFbDA",
        "outputId": "030bb1fa-ace9-4f6e-c6a4-51ddcb9c867d"
      },
      "execution_count": 29,
      "outputs": [
        {
          "output_type": "stream",
          "name": "stdout",
          "text": [
            "              precision    recall  f1-score   support\n",
            "\n",
            "           0       1.00      1.00      1.00        19\n",
            "           1       0.00      0.00      0.00        15\n",
            "           2       0.52      1.00      0.68        16\n",
            "\n",
            "    accuracy                           0.70        50\n",
            "   macro avg       0.51      0.67      0.56        50\n",
            "weighted avg       0.55      0.70      0.60        50\n",
            "\n"
          ]
        },
        {
          "output_type": "stream",
          "name": "stderr",
          "text": [
            "/usr/local/lib/python3.10/dist-packages/sklearn/metrics/_classification.py:1344: UndefinedMetricWarning: Precision and F-score are ill-defined and being set to 0.0 in labels with no predicted samples. Use `zero_division` parameter to control this behavior.\n",
            "  _warn_prf(average, modifier, msg_start, len(result))\n",
            "/usr/local/lib/python3.10/dist-packages/sklearn/metrics/_classification.py:1344: UndefinedMetricWarning: Precision and F-score are ill-defined and being set to 0.0 in labels with no predicted samples. Use `zero_division` parameter to control this behavior.\n",
            "  _warn_prf(average, modifier, msg_start, len(result))\n",
            "/usr/local/lib/python3.10/dist-packages/sklearn/metrics/_classification.py:1344: UndefinedMetricWarning: Precision and F-score are ill-defined and being set to 0.0 in labels with no predicted samples. Use `zero_division` parameter to control this behavior.\n",
            "  _warn_prf(average, modifier, msg_start, len(result))\n"
          ]
        }
      ]
    },
    {
      "cell_type": "code",
      "source": [
        "accuracy_score(y_test.argmax(axis=1),predictions)"
      ],
      "metadata": {
        "colab": {
          "base_uri": "https://localhost:8080/"
        },
        "id": "E7CGhxtoFnJA",
        "outputId": "7bb3e02e-337f-4771-cfdd-fb729d84b6e2"
      },
      "execution_count": 30,
      "outputs": [
        {
          "output_type": "execute_result",
          "data": {
            "text/plain": [
              "0.7"
            ]
          },
          "metadata": {},
          "execution_count": 30
        }
      ]
    },
    {
      "cell_type": "code",
      "source": [
        "model.save('myfirstmodel.h5')"
      ],
      "metadata": {
        "colab": {
          "base_uri": "https://localhost:8080/"
        },
        "id": "y_AuWOXrFzt4",
        "outputId": "8d638586-70db-49ff-a4e8-bc72957b34b3"
      },
      "execution_count": 31,
      "outputs": [
        {
          "output_type": "stream",
          "name": "stderr",
          "text": [
            "/usr/local/lib/python3.10/dist-packages/keras/src/engine/training.py:3103: UserWarning: You are saving your model as an HDF5 file via `model.save()`. This file format is considered legacy. We recommend using instead the native Keras format, e.g. `model.save('my_model.keras')`.\n",
            "  saving_api.save_model(\n"
          ]
        }
      ]
    },
    {
      "cell_type": "code",
      "source": [
        "from keras.models import load_model"
      ],
      "metadata": {
        "id": "Ox3DFvyHH31Z"
      },
      "execution_count": 32,
      "outputs": []
    },
    {
      "cell_type": "code",
      "source": [
        "new_model = load_model('myfirstmodel.h5')"
      ],
      "metadata": {
        "id": "px6LqHWCH8hm"
      },
      "execution_count": 33,
      "outputs": []
    },
    {
      "cell_type": "code",
      "source": [],
      "metadata": {
        "id": "rb4r5c1BIDWS"
      },
      "execution_count": 33,
      "outputs": []
    }
  ]
}