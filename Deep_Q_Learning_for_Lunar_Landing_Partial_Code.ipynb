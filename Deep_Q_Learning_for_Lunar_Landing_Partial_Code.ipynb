{
  "cells": [
    {
      "cell_type": "markdown",
      "metadata": {
        "id": "view-in-github",
        "colab_type": "text"
      },
      "source": [
        "<a href=\"https://colab.research.google.com/github/jonathonkischuk/AI/blob/main/Deep_Q_Learning_for_Lunar_Landing_Partial_Code.ipynb\" target=\"_parent\"><img src=\"https://colab.research.google.com/assets/colab-badge.svg\" alt=\"Open In Colab\"/></a>"
      ]
    },
    {
      "cell_type": "markdown",
      "metadata": {
        "id": "LbZcI9ZXHl3a"
      },
      "source": [
        "# Deep Q-Learning for Lunar Landing"
      ]
    },
    {
      "cell_type": "markdown",
      "metadata": {
        "id": "E8yPRjteXgPb"
      },
      "source": [
        "## Part 0 - Installing the required packages and importing the libraries"
      ]
    },
    {
      "cell_type": "markdown",
      "metadata": {
        "id": "slEm5teGWjWU"
      },
      "source": [
        "### Installing Gymnasium"
      ]
    },
    {
      "cell_type": "code",
      "execution_count": 2,
      "metadata": {
        "id": "dbnq3XpoKa_7",
        "colab": {
          "base_uri": "https://localhost:8080/"
        },
        "outputId": "c8ceec88-03e3-4177-b89f-29f462fffa5b"
      },
      "outputs": [
        {
          "output_type": "stream",
          "name": "stdout",
          "text": [
            "Collecting gymnasium\n",
            "  Downloading gymnasium-0.29.1-py3-none-any.whl (953 kB)\n",
            "\u001b[2K     \u001b[90m━━━━━━━━━━━━━━━━━━━━━━━━━━━━━━━━━━━━━━━━\u001b[0m \u001b[32m953.9/953.9 kB\u001b[0m \u001b[31m3.9 MB/s\u001b[0m eta \u001b[36m0:00:00\u001b[0m\n",
            "\u001b[?25hRequirement already satisfied: numpy>=1.21.0 in /usr/local/lib/python3.10/dist-packages (from gymnasium) (1.23.5)\n",
            "Requirement already satisfied: cloudpickle>=1.2.0 in /usr/local/lib/python3.10/dist-packages (from gymnasium) (2.2.1)\n",
            "Requirement already satisfied: typing-extensions>=4.3.0 in /usr/local/lib/python3.10/dist-packages (from gymnasium) (4.5.0)\n",
            "Collecting farama-notifications>=0.0.1 (from gymnasium)\n",
            "  Downloading Farama_Notifications-0.0.4-py3-none-any.whl (2.5 kB)\n",
            "Installing collected packages: farama-notifications, gymnasium\n",
            "Successfully installed farama-notifications-0.0.4 gymnasium-0.29.1\n",
            "Requirement already satisfied: gymnasium[accept-rom-license,atari] in /usr/local/lib/python3.10/dist-packages (0.29.1)\n",
            "Requirement already satisfied: numpy>=1.21.0 in /usr/local/lib/python3.10/dist-packages (from gymnasium[accept-rom-license,atari]) (1.23.5)\n",
            "Requirement already satisfied: cloudpickle>=1.2.0 in /usr/local/lib/python3.10/dist-packages (from gymnasium[accept-rom-license,atari]) (2.2.1)\n",
            "Requirement already satisfied: typing-extensions>=4.3.0 in /usr/local/lib/python3.10/dist-packages (from gymnasium[accept-rom-license,atari]) (4.5.0)\n",
            "Requirement already satisfied: farama-notifications>=0.0.1 in /usr/local/lib/python3.10/dist-packages (from gymnasium[accept-rom-license,atari]) (0.0.4)\n",
            "Collecting shimmy[atari]<1.0,>=0.1.0 (from gymnasium[accept-rom-license,atari])\n",
            "  Downloading Shimmy-0.2.1-py3-none-any.whl (25 kB)\n",
            "Collecting autorom[accept-rom-license]~=0.4.2 (from gymnasium[accept-rom-license,atari])\n",
            "  Downloading AutoROM-0.4.2-py3-none-any.whl (16 kB)\n",
            "Requirement already satisfied: click in /usr/local/lib/python3.10/dist-packages (from autorom[accept-rom-license]~=0.4.2->gymnasium[accept-rom-license,atari]) (8.1.7)\n",
            "Requirement already satisfied: requests in /usr/local/lib/python3.10/dist-packages (from autorom[accept-rom-license]~=0.4.2->gymnasium[accept-rom-license,atari]) (2.31.0)\n",
            "Requirement already satisfied: tqdm in /usr/local/lib/python3.10/dist-packages (from autorom[accept-rom-license]~=0.4.2->gymnasium[accept-rom-license,atari]) (4.66.1)\n",
            "Collecting AutoROM.accept-rom-license (from autorom[accept-rom-license]~=0.4.2->gymnasium[accept-rom-license,atari])\n",
            "  Downloading AutoROM.accept-rom-license-0.6.1.tar.gz (434 kB)\n",
            "\u001b[2K     \u001b[90m━━━━━━━━━━━━━━━━━━━━━━━━━━━━━━━━━━━━━━━━\u001b[0m \u001b[32m434.7/434.7 kB\u001b[0m \u001b[31m7.3 MB/s\u001b[0m eta \u001b[36m0:00:00\u001b[0m\n",
            "\u001b[?25h  Installing build dependencies ... \u001b[?25l\u001b[?25hdone\n",
            "  Getting requirements to build wheel ... \u001b[?25l\u001b[?25hdone\n",
            "  Preparing metadata (pyproject.toml) ... \u001b[?25l\u001b[?25hdone\n",
            "Collecting ale-py~=0.8.1 (from shimmy[atari]<1.0,>=0.1.0->gymnasium[accept-rom-license,atari])\n",
            "  Downloading ale_py-0.8.1-cp310-cp310-manylinux_2_17_x86_64.manylinux2014_x86_64.whl (1.7 MB)\n",
            "\u001b[2K     \u001b[90m━━━━━━━━━━━━━━━━━━━━━━━━━━━━━━━━━━━━━━━━\u001b[0m \u001b[32m1.7/1.7 MB\u001b[0m \u001b[31m12.3 MB/s\u001b[0m eta \u001b[36m0:00:00\u001b[0m\n",
            "\u001b[?25hRequirement already satisfied: importlib-resources in /usr/local/lib/python3.10/dist-packages (from ale-py~=0.8.1->shimmy[atari]<1.0,>=0.1.0->gymnasium[accept-rom-license,atari]) (6.1.1)\n",
            "Requirement already satisfied: charset-normalizer<4,>=2 in /usr/local/lib/python3.10/dist-packages (from requests->autorom[accept-rom-license]~=0.4.2->gymnasium[accept-rom-license,atari]) (3.3.2)\n",
            "Requirement already satisfied: idna<4,>=2.5 in /usr/local/lib/python3.10/dist-packages (from requests->autorom[accept-rom-license]~=0.4.2->gymnasium[accept-rom-license,atari]) (3.6)\n",
            "Requirement already satisfied: urllib3<3,>=1.21.1 in /usr/local/lib/python3.10/dist-packages (from requests->autorom[accept-rom-license]~=0.4.2->gymnasium[accept-rom-license,atari]) (2.0.7)\n",
            "Requirement already satisfied: certifi>=2017.4.17 in /usr/local/lib/python3.10/dist-packages (from requests->autorom[accept-rom-license]~=0.4.2->gymnasium[accept-rom-license,atari]) (2023.11.17)\n",
            "Building wheels for collected packages: AutoROM.accept-rom-license\n",
            "  Building wheel for AutoROM.accept-rom-license (pyproject.toml) ... \u001b[?25l\u001b[?25hdone\n",
            "  Created wheel for AutoROM.accept-rom-license: filename=AutoROM.accept_rom_license-0.6.1-py3-none-any.whl size=446660 sha256=c47464e3188e7b43ae5c58249043ccf28abd0b9113dbc8a933018a4431176f11\n",
            "  Stored in directory: /root/.cache/pip/wheels/6b/1b/ef/a43ff1a2f1736d5711faa1ba4c1f61be1131b8899e6a057811\n",
            "Successfully built AutoROM.accept-rom-license\n",
            "Installing collected packages: ale-py, shimmy, AutoROM.accept-rom-license, autorom\n",
            "Successfully installed AutoROM.accept-rom-license-0.6.1 ale-py-0.8.1 autorom-0.4.2 shimmy-0.2.1\n",
            "Reading package lists... Done\n",
            "Building dependency tree... Done\n",
            "Reading state information... Done\n",
            "The following additional packages will be installed:\n",
            "  swig4.0\n",
            "Suggested packages:\n",
            "  swig-doc swig-examples swig4.0-examples swig4.0-doc\n",
            "The following NEW packages will be installed:\n",
            "  swig swig4.0\n",
            "0 upgraded, 2 newly installed, 0 to remove and 24 not upgraded.\n",
            "Need to get 1,116 kB of archives.\n",
            "After this operation, 5,542 kB of additional disk space will be used.\n",
            "Get:1 http://archive.ubuntu.com/ubuntu jammy/universe amd64 swig4.0 amd64 4.0.2-1ubuntu1 [1,110 kB]\n",
            "Get:2 http://archive.ubuntu.com/ubuntu jammy/universe amd64 swig all 4.0.2-1ubuntu1 [5,632 B]\n",
            "Fetched 1,116 kB in 0s (3,422 kB/s)\n",
            "Selecting previously unselected package swig4.0.\n",
            "(Reading database ... 121658 files and directories currently installed.)\n",
            "Preparing to unpack .../swig4.0_4.0.2-1ubuntu1_amd64.deb ...\n",
            "Unpacking swig4.0 (4.0.2-1ubuntu1) ...\n",
            "Selecting previously unselected package swig.\n",
            "Preparing to unpack .../swig_4.0.2-1ubuntu1_all.deb ...\n",
            "Unpacking swig (4.0.2-1ubuntu1) ...\n",
            "Setting up swig4.0 (4.0.2-1ubuntu1) ...\n",
            "Setting up swig (4.0.2-1ubuntu1) ...\n",
            "Processing triggers for man-db (2.10.2-1) ...\n",
            "Requirement already satisfied: gymnasium[box2d] in /usr/local/lib/python3.10/dist-packages (0.29.1)\n",
            "Requirement already satisfied: numpy>=1.21.0 in /usr/local/lib/python3.10/dist-packages (from gymnasium[box2d]) (1.23.5)\n",
            "Requirement already satisfied: cloudpickle>=1.2.0 in /usr/local/lib/python3.10/dist-packages (from gymnasium[box2d]) (2.2.1)\n",
            "Requirement already satisfied: typing-extensions>=4.3.0 in /usr/local/lib/python3.10/dist-packages (from gymnasium[box2d]) (4.5.0)\n",
            "Requirement already satisfied: farama-notifications>=0.0.1 in /usr/local/lib/python3.10/dist-packages (from gymnasium[box2d]) (0.0.4)\n",
            "Collecting box2d-py==2.3.5 (from gymnasium[box2d])\n",
            "  Downloading box2d-py-2.3.5.tar.gz (374 kB)\n",
            "\u001b[2K     \u001b[90m━━━━━━━━━━━━━━━━━━━━━━━━━━━━━━━━━━━━━━━━\u001b[0m \u001b[32m374.4/374.4 kB\u001b[0m \u001b[31m4.2 MB/s\u001b[0m eta \u001b[36m0:00:00\u001b[0m\n",
            "\u001b[?25h  Preparing metadata (setup.py) ... \u001b[?25l\u001b[?25hdone\n",
            "Requirement already satisfied: pygame>=2.1.3 in /usr/local/lib/python3.10/dist-packages (from gymnasium[box2d]) (2.5.2)\n",
            "Collecting swig==4.* (from gymnasium[box2d])\n",
            "  Downloading swig-4.1.1.post1-py2.py3-none-manylinux_2_5_x86_64.manylinux1_x86_64.whl (1.8 MB)\n",
            "\u001b[2K     \u001b[90m━━━━━━━━━━━━━━━━━━━━━━━━━━━━━━━━━━━━━━━━\u001b[0m \u001b[32m1.8/1.8 MB\u001b[0m \u001b[31m10.4 MB/s\u001b[0m eta \u001b[36m0:00:00\u001b[0m\n",
            "\u001b[?25hBuilding wheels for collected packages: box2d-py\n",
            "  Building wheel for box2d-py (setup.py) ... \u001b[?25l\u001b[?25hdone\n",
            "  Created wheel for box2d-py: filename=box2d_py-2.3.5-cp310-cp310-linux_x86_64.whl size=2349145 sha256=b49d0aadd687c9223e86a18ebfb94615c25b1b0c44f64c844a9ef9d0bbd44737\n",
            "  Stored in directory: /root/.cache/pip/wheels/db/8f/6a/eaaadf056fba10a98d986f6dce954e6201ba3126926fc5ad9e\n",
            "Successfully built box2d-py\n",
            "Installing collected packages: swig, box2d-py\n",
            "Successfully installed box2d-py-2.3.5 swig-4.1.1.post1\n"
          ]
        }
      ],
      "source": [
        "!pip install gymnasium\n",
        "!pip install \"gymnasium[atari, accept-rom-license]\"\n",
        "!apt-get install -y swig\n",
        "!pip install gymnasium[box2d]"
      ]
    },
    {
      "cell_type": "markdown",
      "metadata": {
        "id": "brqiMN3UW9T9"
      },
      "source": [
        "### Importing the libraries"
      ]
    },
    {
      "cell_type": "code",
      "execution_count": 3,
      "metadata": {
        "id": "mZaKXP_aMl9O"
      },
      "outputs": [],
      "source": [
        "import os\n",
        "import random\n",
        "import numpy as np\n",
        "import torch\n",
        "import torch.nn as nn\n",
        "import torch.optim as optim\n",
        "import torch.nn.functional as F\n",
        "import torch.autograd as autograd\n",
        "from torch.autograd import Variable\n",
        "from collections import deque, namedtuple"
      ]
    },
    {
      "cell_type": "markdown",
      "metadata": {
        "id": "EzlDKXvkXzGI"
      },
      "source": [
        "## Part 1 - Building the AI"
      ]
    },
    {
      "cell_type": "markdown",
      "metadata": {
        "id": "UtG6Zc83YYy3"
      },
      "source": [
        "### Creating the architecture of the Neural Network"
      ]
    },
    {
      "cell_type": "code",
      "source": [
        "class Network(nn.Module):\n",
        "\n",
        "  def __init__(self, state_size, action_size, seed = 42):\n",
        "    super(Network, self).__init__()\n",
        "    self.seed = torch.manual_seed(seed)\n",
        "    self.fc1 = nn.Linear(state_size, 64)\n",
        "    self.fc2 = nn.Linear(64, 64)\n",
        "    self.fc3 = nn.Linear(64, action_size)\n",
        "\n",
        "  def forward(self, state):\n",
        "    x = self.fc1(state)\n",
        "    x = F.relu(x)\n",
        "    x = self.fc2(x)\n",
        "    x = F.relu(x)\n",
        "    return self.fc3(x)"
      ],
      "metadata": {
        "id": "buXsawglJEcG"
      },
      "execution_count": 4,
      "outputs": []
    },
    {
      "cell_type": "markdown",
      "metadata": {
        "id": "UxVrBnFWZKb1"
      },
      "source": [
        "## Part 2 - Training the AI"
      ]
    },
    {
      "cell_type": "markdown",
      "metadata": {
        "id": "T364fz9qZb2j"
      },
      "source": [
        "### Setting up the environment"
      ]
    },
    {
      "cell_type": "code",
      "source": [
        "import gymnasium as gym\n",
        "env = gym.make('LunarLander-v2')\n",
        "state_shape = env.observation_space.shape\n",
        "state_size = env.observation_space.shape[0]\n",
        "number_actions = env.action_space.n\n",
        "print('State shape: ', state_shape)\n",
        "print('State size: ', state_size)\n",
        "print('Number of actions: ', number_actions)"
      ],
      "metadata": {
        "id": "ei-iF4M1sTXa",
        "colab": {
          "base_uri": "https://localhost:8080/"
        },
        "outputId": "772b0cff-1aff-4a40-b1ba-a132a106fa01"
      },
      "execution_count": 5,
      "outputs": [
        {
          "output_type": "stream",
          "name": "stdout",
          "text": [
            "State shape:  (8,)\n",
            "State size:  8\n",
            "Number of actions:  4\n"
          ]
        }
      ]
    },
    {
      "cell_type": "markdown",
      "metadata": {
        "id": "c_dZmOIvZgj-"
      },
      "source": [
        "### Initializing the hyperparameters"
      ]
    },
    {
      "cell_type": "code",
      "source": [
        "learning_rate = 5e-4\n",
        "minibatch_size = 100\n",
        "discount_factor = 0.99\n",
        "replay_buffer_size = int(1e5)\n",
        "interpolation_parameter = 1e-3"
      ],
      "metadata": {
        "id": "Taz0SoI4yIhV"
      },
      "execution_count": 6,
      "outputs": []
    },
    {
      "cell_type": "markdown",
      "metadata": {
        "id": "8hD_Vs-bYnip"
      },
      "source": [
        "### Implementing Experience Replay"
      ]
    },
    {
      "cell_type": "code",
      "source": [
        "class ReplayMemory(object):\n",
        "\n",
        "  def __init__(self, capacity):\n",
        "    self.device = torch.device(\"cuda:0\" if torch.cuda.is_available() else \"cpu\")\n",
        "    self.capacity = capacity\n",
        "    self.memory = []\n",
        "\n",
        "  def push(self, event):\n",
        "    self.memory.append(event)\n",
        "    if len(self.memory) > self.capacity:\n",
        "      del self.memory[0]\n",
        "\n",
        "  def sample(self, batch_size):\n",
        "    experiences = random.sample(self.memory, k = batch_size)\n",
        "    states = torch.from_numpy(np.vstack([e[0] for e in experiences if e is not None])).float().to(self.device)\n",
        "    actions = torch.from_numpy(np.vstack([e[1] for e in experiences if e is not None])).long().to(self.device)\n",
        "    rewards = torch.from_numpy(np.vstack([e[2] for e in experiences if e is not None])).float().to(self.device)\n",
        "    next_states = torch.from_numpy(np.vstack([e[3] for e in experiences if e is not None])).float().to(self.device)\n",
        "    dones = torch.from_numpy(np.vstack([e[4] for e in experiences if e is not None]).astype(np.uint8)).float().to(self.device)\n",
        "    return states, next_states, actions, rewards, dones"
      ],
      "metadata": {
        "id": "vVq09lBT3ESC"
      },
      "execution_count": 7,
      "outputs": []
    },
    {
      "cell_type": "markdown",
      "metadata": {
        "id": "JmEkbFbUY6Jt"
      },
      "source": [
        "### Implementing the DQN class"
      ]
    },
    {
      "cell_type": "code",
      "source": [
        "class Agent():\n",
        "\n",
        "  def __init__(self, state_size, action_size):\n",
        "    self.device = torch.device(\"cuda:0\" if torch.cuda.is_available() else \"cpu\")\n",
        "    self.state_size = state_size\n",
        "    self.action_size = action_size\n",
        "    self.local_qnetwork = Network(state_size, action_size).to(self.device)\n",
        "    self.target_qnetwork = Network(state_size, action_size).to(self.device)\n",
        "    self.optimizer = optim.Adam(self.local_qnetwork.parameters(), lr = learning_rate)\n",
        "    self.memory = ReplayMemory(replay_buffer_size)\n",
        "    self.t_step = 0\n",
        "\n",
        "  def step(self, state, action, reward, next_state, done):\n",
        "    self.memory.push((state, action, reward, next_state, done))\n",
        "    self.t_step = (self.t_step + 1) % 4\n",
        "    if self.t_step == 0:\n",
        "      if len(self.memory.memory) > minibatch_size:\n",
        "        experiences = self.memory.sample(100)\n",
        "        self.learn(experiences, discount_factor)\n",
        "\n",
        "  def act(self, state, epsilon = 0.):\n",
        "    state = torch.from_numpy(state).float().unsqueeze(0).to(self.device)\n",
        "    self.local_qnetwork.eval()\n",
        "    with torch.no_grad():\n",
        "      action_values = self.local_qnetwork(state)\n",
        "    self.local_qnetwork.train()\n",
        "    if random.random() > epsilon:\n",
        "      return np.argmax(action_values.cpu().data.numpy())\n",
        "    else:\n",
        "      return random.choice(np.arange(self.action_size))\n",
        "\n",
        "  def learn(self, experiences, discount_factor):\n",
        "    states, next_states, actions, rewards, dones = experiences\n",
        "    next_q_targets = self.target_qnetwork(next_states).detach().max(1)[0].unsqueeze(1)\n",
        "    q_targets = rewards + discount_factor * next_q_targets * (1 - dones)\n",
        "    q_expected = self.local_qnetwork(states).gather(1, actions)\n",
        "    loss = F.mse_loss(q_expected, q_targets)\n",
        "    self.optimizer.zero_grad()\n",
        "    loss.backward()\n",
        "    self.optimizer.step()\n",
        "    self.soft_update(self.local_qnetwork, self.target_qnetwork, interpolation_parameter)\n",
        "\n",
        "  def soft_update(self, local_model, target_model, interpolation_parameter):\n",
        "    for target_param, local_param in zip(target_model.parameters(), local_model.parameters()):\n",
        "      target_param.data.copy_(interpolation_parameter * local_param.data + (1.0 - interpolation_parameter) * target_param.data)"
      ],
      "metadata": {
        "id": "ZDBysglKdrCa"
      },
      "execution_count": 8,
      "outputs": []
    },
    {
      "cell_type": "markdown",
      "metadata": {
        "id": "o1tZElccZmf6"
      },
      "source": [
        "### Initializing the DQN agent"
      ]
    },
    {
      "cell_type": "code",
      "source": [
        "agent = Agent(state_size, number_actions)"
      ],
      "metadata": {
        "id": "3RvaTTAxjOPG"
      },
      "execution_count": 9,
      "outputs": []
    },
    {
      "cell_type": "markdown",
      "metadata": {
        "id": "E8v0PtUfaVQp"
      },
      "source": [
        "### Training the DQN agent"
      ]
    },
    {
      "cell_type": "code",
      "source": [
        "number_episodes = 2000\n",
        "maximum_number_timesteps_per_episode = 1000\n",
        "epsilon_starting_value  = 1.0\n",
        "epsilon_ending_value  = 0.01\n",
        "epsilon_decay_value  = 0.995\n",
        "epsilon = epsilon_starting_value\n",
        "scores_on_100_episodes = deque(maxlen = 100)\n",
        "\n",
        "for episode in range(1, number_episodes + 1):\n",
        "  state, _ = env.reset()\n",
        "  score = 0\n",
        "  for t in range(maximum_number_timesteps_per_episode):\n",
        "    action = agent.act(state, epsilon)\n",
        "    next_state, reward, done, _, _ = env.step(action)\n",
        "    agent.step(state, action, reward, next_state, done)\n",
        "    state = next_state\n",
        "    score += reward\n",
        "    if done:\n",
        "      break\n",
        "  scores_on_100_episodes.append(score)\n",
        "  epsilon = max(epsilon_ending_value, epsilon_decay_value * epsilon)\n",
        "  print('\\rEpisode {}\\tAverage Score: {:.2f}'.format(episode, np.mean(scores_on_100_episodes)), end = \"\")\n",
        "  if episode % 100 == 0:\n",
        "    print('\\rEpisode {}\\tAverage Score: {:.2f}'.format(episode, np.mean(scores_on_100_episodes)))\n",
        "  if np.mean(scores_on_100_episodes) >= 200.0:\n",
        "    print('\\nEnvironment solved in {:d} episodes!\\tAverage Score: {:.2f}'.format(episode - 100, np.mean(scores_on_100_episodes)))\n",
        "    torch.save(agent.local_qnetwork.state_dict(), 'checkpoint.pth')\n",
        "    break"
      ],
      "metadata": {
        "id": "TPf0BlP8pRmq",
        "colab": {
          "base_uri": "https://localhost:8080/"
        },
        "outputId": "4b6084f1-4703-4259-fdf3-7ae54f9a7127"
      },
      "execution_count": 10,
      "outputs": [
        {
          "output_type": "stream",
          "name": "stdout",
          "text": [
            "Episode 100\tAverage Score: -150.54\n",
            "Episode 200\tAverage Score: -127.64\n",
            "Episode 300\tAverage Score: -86.09\n",
            "Episode 400\tAverage Score: -20.74\n",
            "Episode 500\tAverage Score: 13.56\n",
            "Episode 600\tAverage Score: 65.46\n",
            "Episode 700\tAverage Score: 100.41\n",
            "Episode 800\tAverage Score: 106.56\n",
            "Episode 900\tAverage Score: 129.85\n",
            "Episode 1000\tAverage Score: 165.93\n",
            "Episode 1100\tAverage Score: 194.69\n",
            "Episode 1120\tAverage Score: 200.10\n",
            "Environment solved in 1020 episodes!\tAverage Score: 200.10\n"
          ]
        }
      ]
    },
    {
      "cell_type": "markdown",
      "metadata": {
        "id": "O8CNwdOTcCoP"
      },
      "source": [
        "## Part 3 - Visualizing the results"
      ]
    },
    {
      "cell_type": "code",
      "execution_count": 11,
      "metadata": {
        "id": "cb9nVvU2Okhk",
        "colab": {
          "base_uri": "https://localhost:8080/",
          "height": 459
        },
        "outputId": "05de76a1-acc8-4539-b771-44e2b980527a"
      },
      "outputs": [
        {
          "output_type": "stream",
          "name": "stderr",
          "text": [
            "WARNING:imageio_ffmpeg:IMAGEIO FFMPEG_WRITER WARNING: input image is not divisible by macro_block_size=16, resizing from (600, 400) to (608, 400) to ensure video compatibility with most codecs and players. To prevent resizing, make your input image divisible by the macro_block_size or set the macro_block_size to 1 (risking incompatibility).\n"
          ]
        },
        {
          "output_type": "display_data",
          "data": {
            "text/plain": [
              "<IPython.core.display.HTML object>"
            ],
            "text/html": [
              "<video alt=\"test\" autoplay\n",
              "                loop controls style=\"height: 400px;\">\n",
              "                <source src=\"data:video/mp4;base64,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\" type=\"video/mp4\" />\n",
              "             </video>"
            ]
          },
          "metadata": {}
        }
      ],
      "source": [
        "import glob\n",
        "import io\n",
        "import base64\n",
        "import imageio\n",
        "from IPython.display import HTML, display\n",
        "from gym.wrappers.monitoring.video_recorder import VideoRecorder\n",
        "\n",
        "def show_video_of_model(agent, env_name):\n",
        "    env = gym.make(env_name, render_mode='rgb_array')\n",
        "    state, _ = env.reset()\n",
        "    done = False\n",
        "    frames = []\n",
        "    while not done:\n",
        "        frame = env.render()\n",
        "        frames.append(frame)\n",
        "        action = agent.act(state)\n",
        "        state, reward, done, _, _ = env.step(action.item())\n",
        "    env.close()\n",
        "    imageio.mimsave('video.mp4', frames, fps=30)\n",
        "\n",
        "show_video_of_model(agent, 'LunarLander-v2')\n",
        "\n",
        "def show_video():\n",
        "    mp4list = glob.glob('*.mp4')\n",
        "    if len(mp4list) > 0:\n",
        "        mp4 = mp4list[0]\n",
        "        video = io.open(mp4, 'r+b').read()\n",
        "        encoded = base64.b64encode(video)\n",
        "        display(HTML(data='''<video alt=\"test\" autoplay\n",
        "                loop controls style=\"height: 400px;\">\n",
        "                <source src=\"data:video/mp4;base64,{0}\" type=\"video/mp4\" />\n",
        "             </video>'''.format(encoded.decode('ascii'))))\n",
        "    else:\n",
        "        print(\"Could not find video\")\n",
        "\n",
        "show_video()"
      ]
    }
  ],
  "metadata": {
    "colab": {
      "provenance": [],
      "include_colab_link": true
    },
    "kernelspec": {
      "display_name": "Python 3",
      "name": "python3"
    },
    "language_info": {
      "name": "python"
    }
  },
  "nbformat": 4,
  "nbformat_minor": 0
}